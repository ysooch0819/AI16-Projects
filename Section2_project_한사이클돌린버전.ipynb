{
  "nbformat": 4,
  "nbformat_minor": 0,
  "metadata": {
    "colab": {
      "provenance": [],
      "authorship_tag": "ABX9TyP9Ji6tqGFWBvWD0jV3/qOO",
      "include_colab_link": true
    },
    "kernelspec": {
      "name": "python3",
      "display_name": "Python 3"
    },
    "language_info": {
      "name": "python"
    }
  },
  "cells": [
    {
      "cell_type": "markdown",
      "metadata": {
        "id": "view-in-github",
        "colab_type": "text"
      },
      "source": [
        "<a href=\"https://colab.research.google.com/github/ysooch0819/AI16-Projects/blob/main/Section2_project_%ED%95%9C%EC%82%AC%EC%9D%B4%ED%81%B4%EB%8F%8C%EB%A6%B0%EB%B2%84%EC%A0%84.ipynb\" target=\"_parent\"><img src=\"https://colab.research.google.com/assets/colab-badge.svg\" alt=\"Open In Colab\"/></a>"
      ]
    },
    {
      "cell_type": "code",
      "execution_count": 1,
      "metadata": {
        "id": "N50qm7rqfDcF"
      },
      "outputs": [],
      "source": [
        "import pandas as pd\n",
        "import requests\n",
        "import time\n",
        "import json\n",
        "from pandas import json_normalize"
      ]
    },
    {
      "cell_type": "code",
      "source": [
        "import sys\n",
        "\n",
        "if \"google.colab\" in sys.modules:\n",
        "    # Install packages in Colab\n",
        "    !pip install category_encoders==2.*\n",
        "    !pip install eli5\n",
        "    !pip install pdpbox\n",
        "    # !pip install --upgrade xgboost"
      ],
      "metadata": {
        "colab": {
          "base_uri": "https://localhost:8080/"
        },
        "id": "QtxxBqbBA6WW",
        "outputId": "294858f5-487f-42a9-a9e8-285d9a973ff2"
      },
      "execution_count": 2,
      "outputs": [
        {
          "output_type": "stream",
          "name": "stdout",
          "text": [
            "Looking in indexes: https://pypi.org/simple, https://us-python.pkg.dev/colab-wheels/public/simple/\n",
            "Requirement already satisfied: category_encoders==2.* in /usr/local/lib/python3.8/dist-packages (2.5.1.post0)\n",
            "Requirement already satisfied: scikit-learn>=0.20.0 in /usr/local/lib/python3.8/dist-packages (from category_encoders==2.*) (1.0.2)\n",
            "Requirement already satisfied: scipy>=1.0.0 in /usr/local/lib/python3.8/dist-packages (from category_encoders==2.*) (1.7.3)\n",
            "Requirement already satisfied: statsmodels>=0.9.0 in /usr/local/lib/python3.8/dist-packages (from category_encoders==2.*) (0.12.2)\n",
            "Requirement already satisfied: numpy>=1.14.0 in /usr/local/lib/python3.8/dist-packages (from category_encoders==2.*) (1.21.6)\n",
            "Requirement already satisfied: patsy>=0.5.1 in /usr/local/lib/python3.8/dist-packages (from category_encoders==2.*) (0.5.3)\n",
            "Requirement already satisfied: pandas>=1.0.5 in /usr/local/lib/python3.8/dist-packages (from category_encoders==2.*) (1.3.5)\n",
            "Requirement already satisfied: pytz>=2017.3 in /usr/local/lib/python3.8/dist-packages (from pandas>=1.0.5->category_encoders==2.*) (2022.6)\n",
            "Requirement already satisfied: python-dateutil>=2.7.3 in /usr/local/lib/python3.8/dist-packages (from pandas>=1.0.5->category_encoders==2.*) (2.8.2)\n",
            "Requirement already satisfied: six in /usr/local/lib/python3.8/dist-packages (from patsy>=0.5.1->category_encoders==2.*) (1.15.0)\n",
            "Requirement already satisfied: joblib>=0.11 in /usr/local/lib/python3.8/dist-packages (from scikit-learn>=0.20.0->category_encoders==2.*) (1.2.0)\n",
            "Requirement already satisfied: threadpoolctl>=2.0.0 in /usr/local/lib/python3.8/dist-packages (from scikit-learn>=0.20.0->category_encoders==2.*) (3.1.0)\n",
            "Looking in indexes: https://pypi.org/simple, https://us-python.pkg.dev/colab-wheels/public/simple/\n",
            "Requirement already satisfied: eli5 in /usr/local/lib/python3.8/dist-packages (0.13.0)\n",
            "Requirement already satisfied: scikit-learn>=0.20 in /usr/local/lib/python3.8/dist-packages (from eli5) (1.0.2)\n",
            "Requirement already satisfied: attrs>17.1.0 in /usr/local/lib/python3.8/dist-packages (from eli5) (22.1.0)\n",
            "Requirement already satisfied: numpy>=1.9.0 in /usr/local/lib/python3.8/dist-packages (from eli5) (1.21.6)\n",
            "Requirement already satisfied: six in /usr/local/lib/python3.8/dist-packages (from eli5) (1.15.0)\n",
            "Requirement already satisfied: jinja2>=3.0.0 in /usr/local/lib/python3.8/dist-packages (from eli5) (3.1.2)\n",
            "Requirement already satisfied: tabulate>=0.7.7 in /usr/local/lib/python3.8/dist-packages (from eli5) (0.8.10)\n",
            "Requirement already satisfied: graphviz in /usr/local/lib/python3.8/dist-packages (from eli5) (0.10.1)\n",
            "Requirement already satisfied: scipy in /usr/local/lib/python3.8/dist-packages (from eli5) (1.7.3)\n",
            "Requirement already satisfied: MarkupSafe>=2.0 in /usr/local/lib/python3.8/dist-packages (from jinja2>=3.0.0->eli5) (2.0.1)\n",
            "Requirement already satisfied: threadpoolctl>=2.0.0 in /usr/local/lib/python3.8/dist-packages (from scikit-learn>=0.20->eli5) (3.1.0)\n",
            "Requirement already satisfied: joblib>=0.11 in /usr/local/lib/python3.8/dist-packages (from scikit-learn>=0.20->eli5) (1.2.0)\n",
            "Looking in indexes: https://pypi.org/simple, https://us-python.pkg.dev/colab-wheels/public/simple/\n",
            "Requirement already satisfied: pdpbox in /usr/local/lib/python3.8/dist-packages (0.2.1)\n",
            "Requirement already satisfied: pandas in /usr/local/lib/python3.8/dist-packages (from pdpbox) (1.3.5)\n",
            "Requirement already satisfied: joblib in /usr/local/lib/python3.8/dist-packages (from pdpbox) (1.2.0)\n",
            "Requirement already satisfied: numpy in /usr/local/lib/python3.8/dist-packages (from pdpbox) (1.21.6)\n",
            "Requirement already satisfied: sklearn in /usr/local/lib/python3.8/dist-packages (from pdpbox) (0.0.post1)\n",
            "Requirement already satisfied: psutil in /usr/local/lib/python3.8/dist-packages (from pdpbox) (5.4.8)\n",
            "Requirement already satisfied: matplotlib==3.1.1 in /usr/local/lib/python3.8/dist-packages (from pdpbox) (3.1.1)\n",
            "Requirement already satisfied: scipy in /usr/local/lib/python3.8/dist-packages (from pdpbox) (1.7.3)\n",
            "Requirement already satisfied: pyparsing!=2.0.4,!=2.1.2,!=2.1.6,>=2.0.1 in /usr/local/lib/python3.8/dist-packages (from matplotlib==3.1.1->pdpbox) (3.0.9)\n",
            "Requirement already satisfied: python-dateutil>=2.1 in /usr/local/lib/python3.8/dist-packages (from matplotlib==3.1.1->pdpbox) (2.8.2)\n",
            "Requirement already satisfied: cycler>=0.10 in /usr/local/lib/python3.8/dist-packages (from matplotlib==3.1.1->pdpbox) (0.11.0)\n",
            "Requirement already satisfied: kiwisolver>=1.0.1 in /usr/local/lib/python3.8/dist-packages (from matplotlib==3.1.1->pdpbox) (1.4.4)\n",
            "Requirement already satisfied: six>=1.5 in /usr/local/lib/python3.8/dist-packages (from python-dateutil>=2.1->matplotlib==3.1.1->pdpbox) (1.15.0)\n",
            "Requirement already satisfied: pytz>=2017.3 in /usr/local/lib/python3.8/dist-packages (from pandas->pdpbox) (2022.6)\n"
          ]
        }
      ]
    },
    {
      "cell_type": "code",
      "source": [
        "import warnings\n",
        "\n",
        "warnings.filterwarnings(\"ignore\")"
      ],
      "metadata": {
        "id": "oKzoOXDPKSr7"
      },
      "execution_count": 3,
      "outputs": []
    },
    {
      "cell_type": "code",
      "source": [
        "# 'info' 안의 'participants' 특성에 해당 게임의 경기에서 8명의 전체유저들이 플레이한 기록이 들어있다.\n",
        "# 관심있는것은 각 유저들의 해당 경기의 placement(최종순위)가 어떻게 되었는가이다.\n",
        "# TFT의 랭크게임은 8명의 유저 중 최종 순위 1~4위까지는 tier 점수가 오르고, 5~8위는 tier 점수가 깎이는 방식으로 진행된다.\n",
        "# 알고 싶은 것은 유저들이 게임 내 어떠한 선택지를 골랐을 때 tier(점수)를 쉽게 올릴 수 있을까? 것이므로, 게임별 상위 4명의 데이터와 하위 4명의 데이터를 별도로 분석한다.\n",
        "# 필요하다면 Grandmaster, master 의 데이터도 소량 가져와야한다."
      ],
      "metadata": {
        "id": "MgJLERKYg-1k"
      },
      "execution_count": 4,
      "outputs": []
    },
    {
      "cell_type": "code",
      "source": [
        "# 하루에 2~3판을 플레이하는 유저에게 가장 안정적인 티어덱은 무엇인가?\n",
        "# target = 'placement'"
      ],
      "metadata": {
        "id": "DZKahMDMhDzt"
      },
      "execution_count": 5,
      "outputs": []
    },
    {
      "cell_type": "code",
      "source": [
        "### 컬럼 의미 파악\n",
        "## TFT는 플레이어 피 100으로 시작, 매 전투 패배 시 승리한 상대방에게 일정 데미지를 받음, 누적되어 피가 0 이되면 게임 종료. 최후의 생존자가 1등. 1~4위는 +랭크점수 / 5~8위는 -랭크점수\n",
        "# augments : 유저가 선택한 증강체, json리스트, 중요 컬럼1\n",
        "# companion : 전설이(유저의 3인칭 컨트롤러), 사용X\n",
        "# gold_left : 경기 종료시점에 보유한 골드량(쓰지못한 돈)\n",
        "# last_round : 플레이어의 마지막 라운드, target과 직접 관계있음(당연히 마지막 라운드까지 생존한 유저가 1등 or 2등/3등), 사용X\n",
        "# level : 경기 종료시점의 덱 레벨(배치 가능한 유닛 수)\n",
        "# placement : 경기 최종 순위 <- 예측하려는 target\n",
        "# players_eliminated : 막타 쳐서 보낸 유저의 수\n",
        "# puuid : 유저의 내부식별아이디(고유값)\n",
        "# time_eliminated : 플레이어의 경기 총 플레이타임(초), target과 직접 관계있음(당연히 마지막 라운드까지 생존한 유저가 플레이타임이 길다), 사용X\n",
        "# total_damage_to_players : 플레이어의 전설이에게 준 데미지\n",
        "# traits : 유저가 사용한 시너지조합, json 리스트, 중요 컬럼2\n",
        "# units : 유저가 사용한 유닛조합, json 리스트, 중요 컬럼3"
      ],
      "metadata": {
        "id": "TGYXQVbYM5zP"
      },
      "execution_count": 6,
      "outputs": []
    },
    {
      "cell_type": "code",
      "source": [
        "## EDA 80% 끝, 앞으로 여기서부터 시작\n",
        "df = pd.read_csv('eda_80%_complete.csv')\n",
        "df.shape"
      ],
      "metadata": {
        "colab": {
          "base_uri": "https://localhost:8080/"
        },
        "id": "BBkhMgz9B4UZ",
        "outputId": "a22dd505-9f30-4352-b047-3b0b80a6eb33"
      },
      "execution_count": 7,
      "outputs": [
        {
          "output_type": "execute_result",
          "data": {
            "text/plain": [
              "(53400, 17)"
            ]
          },
          "metadata": {},
          "execution_count": 7
        }
      ]
    },
    {
      "cell_type": "code",
      "source": [
        "df.head()"
      ],
      "metadata": {
        "colab": {
          "base_uri": "https://localhost:8080/",
          "height": 496
        },
        "id": "puR0cAJ-N19o",
        "outputId": "2b1bfa00-c176-45c5-82fa-2ce41abf24f2"
      },
      "execution_count": 8,
      "outputs": [
        {
          "output_type": "execute_result",
          "data": {
            "text/plain": [
              "             augment1        augment2               augment3  level  \\\n",
              "0        JeweledLotus   PandorasBench           LagoonEmblem      8   \n",
              "1         TradeSector     FirstAidKit      CyberneticUplink2      8   \n",
              "2       TomeOfTraits1   PandorasBench              AxiomArc2      8   \n",
              "3  CelestialBlessing2  Electrocharge1  JadeEternalProtection      8   \n",
              "4   ShimmerscaleTrait       AxiomArc1              Ascension      9   \n",
              "\n",
              "                                               units  gold_left  \\\n",
              "0  [{'character_id': 'TFT7_Vladimir', 'itemNames'...         50   \n",
              "1  [{'character_id': 'TFT7_Rakan', 'itemNames': [...          3   \n",
              "2  [{'character_id': 'TFT7_Rakan', 'itemNames': [...          1   \n",
              "3  [{'character_id': 'TFT7_Wukong', 'itemNames': ...          1   \n",
              "4  [{'character_id': 'TFT7_Nasus', 'itemNames': [...          3   \n",
              "\n",
              "   total_damage_to_players  players_eliminated  placement  main_synergy  \\\n",
              "0                      183                   2          2        Lagoon   \n",
              "1                       38                   0          7        Mystic   \n",
              "2                       69                   0          5      Ragewing   \n",
              "3                      121                   0          3          Jade   \n",
              "4                      207                   2          1  Shimmerscale   \n",
              "\n",
              "   main_synergy_score  total_synergy_score  num_activated_synergy  cost_sum  \\\n",
              "0                  12                   30                      7       138   \n",
              "1                   6                   21                      8        69   \n",
              "2                   8                   25                      8        83   \n",
              "3                  21                   32                      7        58   \n",
              "4                  21                   35                      8       128   \n",
              "\n",
              "   high_cost_sum  high_cost_ratio  finals  \n",
              "0            114         0.826087    True  \n",
              "1             51         0.739130   False  \n",
              "2             74         0.891566   False  \n",
              "3             43         0.741379    True  \n",
              "4            116         0.906250    True  "
            ],
            "text/html": [
              "\n",
              "  <div id=\"df-ade15f20-765d-43f5-a53c-b154181d598f\">\n",
              "    <div class=\"colab-df-container\">\n",
              "      <div>\n",
              "<style scoped>\n",
              "    .dataframe tbody tr th:only-of-type {\n",
              "        vertical-align: middle;\n",
              "    }\n",
              "\n",
              "    .dataframe tbody tr th {\n",
              "        vertical-align: top;\n",
              "    }\n",
              "\n",
              "    .dataframe thead th {\n",
              "        text-align: right;\n",
              "    }\n",
              "</style>\n",
              "<table border=\"1\" class=\"dataframe\">\n",
              "  <thead>\n",
              "    <tr style=\"text-align: right;\">\n",
              "      <th></th>\n",
              "      <th>augment1</th>\n",
              "      <th>augment2</th>\n",
              "      <th>augment3</th>\n",
              "      <th>level</th>\n",
              "      <th>units</th>\n",
              "      <th>gold_left</th>\n",
              "      <th>total_damage_to_players</th>\n",
              "      <th>players_eliminated</th>\n",
              "      <th>placement</th>\n",
              "      <th>main_synergy</th>\n",
              "      <th>main_synergy_score</th>\n",
              "      <th>total_synergy_score</th>\n",
              "      <th>num_activated_synergy</th>\n",
              "      <th>cost_sum</th>\n",
              "      <th>high_cost_sum</th>\n",
              "      <th>high_cost_ratio</th>\n",
              "      <th>finals</th>\n",
              "    </tr>\n",
              "  </thead>\n",
              "  <tbody>\n",
              "    <tr>\n",
              "      <th>0</th>\n",
              "      <td>JeweledLotus</td>\n",
              "      <td>PandorasBench</td>\n",
              "      <td>LagoonEmblem</td>\n",
              "      <td>8</td>\n",
              "      <td>[{'character_id': 'TFT7_Vladimir', 'itemNames'...</td>\n",
              "      <td>50</td>\n",
              "      <td>183</td>\n",
              "      <td>2</td>\n",
              "      <td>2</td>\n",
              "      <td>Lagoon</td>\n",
              "      <td>12</td>\n",
              "      <td>30</td>\n",
              "      <td>7</td>\n",
              "      <td>138</td>\n",
              "      <td>114</td>\n",
              "      <td>0.826087</td>\n",
              "      <td>True</td>\n",
              "    </tr>\n",
              "    <tr>\n",
              "      <th>1</th>\n",
              "      <td>TradeSector</td>\n",
              "      <td>FirstAidKit</td>\n",
              "      <td>CyberneticUplink2</td>\n",
              "      <td>8</td>\n",
              "      <td>[{'character_id': 'TFT7_Rakan', 'itemNames': [...</td>\n",
              "      <td>3</td>\n",
              "      <td>38</td>\n",
              "      <td>0</td>\n",
              "      <td>7</td>\n",
              "      <td>Mystic</td>\n",
              "      <td>6</td>\n",
              "      <td>21</td>\n",
              "      <td>8</td>\n",
              "      <td>69</td>\n",
              "      <td>51</td>\n",
              "      <td>0.739130</td>\n",
              "      <td>False</td>\n",
              "    </tr>\n",
              "    <tr>\n",
              "      <th>2</th>\n",
              "      <td>TomeOfTraits1</td>\n",
              "      <td>PandorasBench</td>\n",
              "      <td>AxiomArc2</td>\n",
              "      <td>8</td>\n",
              "      <td>[{'character_id': 'TFT7_Rakan', 'itemNames': [...</td>\n",
              "      <td>1</td>\n",
              "      <td>69</td>\n",
              "      <td>0</td>\n",
              "      <td>5</td>\n",
              "      <td>Ragewing</td>\n",
              "      <td>8</td>\n",
              "      <td>25</td>\n",
              "      <td>8</td>\n",
              "      <td>83</td>\n",
              "      <td>74</td>\n",
              "      <td>0.891566</td>\n",
              "      <td>False</td>\n",
              "    </tr>\n",
              "    <tr>\n",
              "      <th>3</th>\n",
              "      <td>CelestialBlessing2</td>\n",
              "      <td>Electrocharge1</td>\n",
              "      <td>JadeEternalProtection</td>\n",
              "      <td>8</td>\n",
              "      <td>[{'character_id': 'TFT7_Wukong', 'itemNames': ...</td>\n",
              "      <td>1</td>\n",
              "      <td>121</td>\n",
              "      <td>0</td>\n",
              "      <td>3</td>\n",
              "      <td>Jade</td>\n",
              "      <td>21</td>\n",
              "      <td>32</td>\n",
              "      <td>7</td>\n",
              "      <td>58</td>\n",
              "      <td>43</td>\n",
              "      <td>0.741379</td>\n",
              "      <td>True</td>\n",
              "    </tr>\n",
              "    <tr>\n",
              "      <th>4</th>\n",
              "      <td>ShimmerscaleTrait</td>\n",
              "      <td>AxiomArc1</td>\n",
              "      <td>Ascension</td>\n",
              "      <td>9</td>\n",
              "      <td>[{'character_id': 'TFT7_Nasus', 'itemNames': [...</td>\n",
              "      <td>3</td>\n",
              "      <td>207</td>\n",
              "      <td>2</td>\n",
              "      <td>1</td>\n",
              "      <td>Shimmerscale</td>\n",
              "      <td>21</td>\n",
              "      <td>35</td>\n",
              "      <td>8</td>\n",
              "      <td>128</td>\n",
              "      <td>116</td>\n",
              "      <td>0.906250</td>\n",
              "      <td>True</td>\n",
              "    </tr>\n",
              "  </tbody>\n",
              "</table>\n",
              "</div>\n",
              "      <button class=\"colab-df-convert\" onclick=\"convertToInteractive('df-ade15f20-765d-43f5-a53c-b154181d598f')\"\n",
              "              title=\"Convert this dataframe to an interactive table.\"\n",
              "              style=\"display:none;\">\n",
              "        \n",
              "  <svg xmlns=\"http://www.w3.org/2000/svg\" height=\"24px\"viewBox=\"0 0 24 24\"\n",
              "       width=\"24px\">\n",
              "    <path d=\"M0 0h24v24H0V0z\" fill=\"none\"/>\n",
              "    <path d=\"M18.56 5.44l.94 2.06.94-2.06 2.06-.94-2.06-.94-.94-2.06-.94 2.06-2.06.94zm-11 1L8.5 8.5l.94-2.06 2.06-.94-2.06-.94L8.5 2.5l-.94 2.06-2.06.94zm10 10l.94 2.06.94-2.06 2.06-.94-2.06-.94-.94-2.06-.94 2.06-2.06.94z\"/><path d=\"M17.41 7.96l-1.37-1.37c-.4-.4-.92-.59-1.43-.59-.52 0-1.04.2-1.43.59L10.3 9.45l-7.72 7.72c-.78.78-.78 2.05 0 2.83L4 21.41c.39.39.9.59 1.41.59.51 0 1.02-.2 1.41-.59l7.78-7.78 2.81-2.81c.8-.78.8-2.07 0-2.86zM5.41 20L4 18.59l7.72-7.72 1.47 1.35L5.41 20z\"/>\n",
              "  </svg>\n",
              "      </button>\n",
              "      \n",
              "  <style>\n",
              "    .colab-df-container {\n",
              "      display:flex;\n",
              "      flex-wrap:wrap;\n",
              "      gap: 12px;\n",
              "    }\n",
              "\n",
              "    .colab-df-convert {\n",
              "      background-color: #E8F0FE;\n",
              "      border: none;\n",
              "      border-radius: 50%;\n",
              "      cursor: pointer;\n",
              "      display: none;\n",
              "      fill: #1967D2;\n",
              "      height: 32px;\n",
              "      padding: 0 0 0 0;\n",
              "      width: 32px;\n",
              "    }\n",
              "\n",
              "    .colab-df-convert:hover {\n",
              "      background-color: #E2EBFA;\n",
              "      box-shadow: 0px 1px 2px rgba(60, 64, 67, 0.3), 0px 1px 3px 1px rgba(60, 64, 67, 0.15);\n",
              "      fill: #174EA6;\n",
              "    }\n",
              "\n",
              "    [theme=dark] .colab-df-convert {\n",
              "      background-color: #3B4455;\n",
              "      fill: #D2E3FC;\n",
              "    }\n",
              "\n",
              "    [theme=dark] .colab-df-convert:hover {\n",
              "      background-color: #434B5C;\n",
              "      box-shadow: 0px 1px 3px 1px rgba(0, 0, 0, 0.15);\n",
              "      filter: drop-shadow(0px 1px 2px rgba(0, 0, 0, 0.3));\n",
              "      fill: #FFFFFF;\n",
              "    }\n",
              "  </style>\n",
              "\n",
              "      <script>\n",
              "        const buttonEl =\n",
              "          document.querySelector('#df-ade15f20-765d-43f5-a53c-b154181d598f button.colab-df-convert');\n",
              "        buttonEl.style.display =\n",
              "          google.colab.kernel.accessAllowed ? 'block' : 'none';\n",
              "\n",
              "        async function convertToInteractive(key) {\n",
              "          const element = document.querySelector('#df-ade15f20-765d-43f5-a53c-b154181d598f');\n",
              "          const dataTable =\n",
              "            await google.colab.kernel.invokeFunction('convertToInteractive',\n",
              "                                                     [key], {});\n",
              "          if (!dataTable) return;\n",
              "\n",
              "          const docLinkHtml = 'Like what you see? Visit the ' +\n",
              "            '<a target=\"_blank\" href=https://colab.research.google.com/notebooks/data_table.ipynb>data table notebook</a>'\n",
              "            + ' to learn more about interactive tables.';\n",
              "          element.innerHTML = '';\n",
              "          dataTable['output_type'] = 'display_data';\n",
              "          await google.colab.output.renderOutput(dataTable, element);\n",
              "          const docLink = document.createElement('div');\n",
              "          docLink.innerHTML = docLinkHtml;\n",
              "          element.appendChild(docLink);\n",
              "        }\n",
              "      </script>\n",
              "    </div>\n",
              "  </div>\n",
              "  "
            ]
          },
          "metadata": {},
          "execution_count": 8
        }
      ]
    },
    {
      "cell_type": "code",
      "source": [
        "df.isnull().sum()"
      ],
      "metadata": {
        "colab": {
          "base_uri": "https://localhost:8080/"
        },
        "id": "mpfpLTirGk0Z",
        "outputId": "314149da-220f-414e-8c7e-e429442ec980"
      },
      "execution_count": 9,
      "outputs": [
        {
          "output_type": "execute_result",
          "data": {
            "text/plain": [
              "augment1                     0\n",
              "augment2                    23\n",
              "augment3                   249\n",
              "level                        0\n",
              "units                        0\n",
              "gold_left                    0\n",
              "total_damage_to_players      0\n",
              "players_eliminated           0\n",
              "placement                    0\n",
              "main_synergy                 0\n",
              "main_synergy_score           0\n",
              "total_synergy_score          0\n",
              "num_activated_synergy        0\n",
              "cost_sum                     0\n",
              "high_cost_sum                0\n",
              "high_cost_ratio              0\n",
              "finals                       0\n",
              "dtype: int64"
            ]
          },
          "metadata": {},
          "execution_count": 9
        }
      ]
    },
    {
      "cell_type": "code",
      "source": [
        "from sklearn.metrics import accuracy_score, f1_score\n",
        "# 분류 문제의 기준모델: 최빈값\n",
        "target = 'finals'\n",
        "baseline = [df[target].mode()[0]] * len(df)\n",
        "y_true = df[target]\n",
        "# 기준모델의 정확도\n",
        "print('기준모델 정확도: ', accuracy_score(y_true, baseline))\n",
        "print('기준모델 f1: ', f1_score(y_true, baseline))\n"
      ],
      "metadata": {
        "colab": {
          "base_uri": "https://localhost:8080/"
        },
        "id": "jDLYK2HV_29j",
        "outputId": "d357035a-fa8e-4a54-f079-3c2357949239"
      },
      "execution_count": 10,
      "outputs": [
        {
          "output_type": "stream",
          "name": "stdout",
          "text": [
            "기준모델 정확도:  0.625\n",
            "기준모델 f1:  0.0\n"
          ]
        }
      ]
    },
    {
      "cell_type": "code",
      "source": [
        "from sklearn.model_selection import train_test_split\n",
        "\n",
        "train, test = train_test_split(df, test_size=0.1, random_state=42)\n",
        "train, val = train_test_split(train, test_size=0.2, random_state=42)\n",
        "\n",
        "train.shape, val.shape, test.shape"
      ],
      "metadata": {
        "colab": {
          "base_uri": "https://localhost:8080/"
        },
        "id": "pELwYyQw8bEK",
        "outputId": "cebdc265-6da2-420c-bc35-dbc9983b213e"
      },
      "execution_count": 11,
      "outputs": [
        {
          "output_type": "execute_result",
          "data": {
            "text/plain": [
              "((38448, 17), (9612, 17), (5340, 17))"
            ]
          },
          "metadata": {},
          "execution_count": 11
        }
      ]
    },
    {
      "cell_type": "code",
      "source": [
        "# 타겟의 비율 확인\n",
        "df[target].value_counts(normalize=True)"
      ],
      "metadata": {
        "colab": {
          "base_uri": "https://localhost:8080/"
        },
        "id": "dTk9d-KAGBmi",
        "outputId": "d1fa6b8d-c127-4096-bb4d-95edae2c686c"
      },
      "execution_count": 12,
      "outputs": [
        {
          "output_type": "execute_result",
          "data": {
            "text/plain": [
              "False    0.625\n",
              "True     0.375\n",
              "Name: finals, dtype: float64"
            ]
          },
          "metadata": {},
          "execution_count": 12
        }
      ]
    },
    {
      "cell_type": "code",
      "source": [
        "import matplotlib.pyplot as plt\n",
        "\n",
        "\n",
        "def analysis_on_target(df):\n",
        "    \"\"\"\n",
        "    n_zero_label, n_one_label에\n",
        "    각각 label이 0인 데이터의 수, label이 1인 데이터의 수를 담아 반환하세요.\n",
        "    \"\"\"\n",
        "    n_zero_label, n_one_label = -1, -1\n",
        "\n",
        "    # YOUR CODE HERE\n",
        "    target = 'finals'\n",
        "    n_one_label = df[target].sum()\n",
        "    n_zero_label = len(df) - n_one_label\n",
        "    \n",
        "    # YOUR CODE ENDS HERE\n",
        "\n",
        "    plt.pie(\n",
        "        (n_zero_label, n_one_label),\n",
        "        labels=(0, 1),\n",
        "        autopct=\"%.2f%%\",\n",
        "        shadow=True,\n",
        "        startangle=90,\n",
        "    )\n",
        "    plt.title(\"Target: finals\", size=15)\n",
        "    plt.show()\n",
        "\n",
        "    return n_zero_label, n_one_label"
      ],
      "metadata": {
        "id": "F7y0eguYAdbZ"
      },
      "execution_count": 13,
      "outputs": []
    },
    {
      "cell_type": "code",
      "source": [
        "train_label_count = analysis_on_target(train)\n",
        "test_label_count = analysis_on_target(test)"
      ],
      "metadata": {
        "colab": {
          "base_uri": "https://localhost:8080/",
          "height": 515
        },
        "id": "WgoGmNYmAkXG",
        "outputId": "d2efd145-910e-4201-955a-b0faf12d7d7c"
      },
      "execution_count": 14,
      "outputs": [
        {
          "output_type": "display_data",
          "data": {
            "text/plain": [
              "<Figure size 432x288 with 1 Axes>"
            ],
            "image/png": "[encoded data removed]"
          },
          "metadata": {}
        },
        {
          "output_type": "display_data",
          "data": {
            "text/plain": [
              "<Figure size 432x288 with 1 Axes>"
            ],
            "image/png": "[encoded data removed]"
          },
          "metadata": {}
        }
      ]
    },
    {
      "cell_type": "code",
      "source": [
        "target = 'finals'\n",
        "features = df.columns.drop([target, 'placement', 'units'])\n",
        "\n",
        "X_train = train[features]\n",
        "y_train = train[target]\n",
        "X_val = val[features]\n",
        "y_val = val[target]\n",
        "X_test = test[features]\n",
        "y_true = test[target]"
      ],
      "metadata": {
        "id": "4P5_a2uWHkwg"
      },
      "execution_count": 15,
      "outputs": []
    },
    {
      "cell_type": "code",
      "source": [
        "from sklearn.ensemble import RandomForestClassifier\n",
        "from category_encoders import OrdinalEncoder\n",
        "from sklearn.pipeline import make_pipeline\n",
        "\n",
        "pipe = make_pipeline(\n",
        "    OrdinalEncoder(),\n",
        "    RandomForestClassifier(n_estimators=100, random_state=2, oob_score=True)\n",
        ")\n",
        "\n",
        "pipe.fit(X_train, y_train)\n",
        "y_pred = pipe.predict(X_val)\n",
        "print('검증 정확도: ', pipe.score(X_val, y_val))\n",
        "print('검증 f1: ', f1_score(y_val, y_pred))\n",
        "\n",
        "\n"
      ],
      "metadata": {
        "colab": {
          "base_uri": "https://localhost:8080/"
        },
        "id": "6wPsOp9C8Pv8",
        "outputId": "5728311d-29e6-4d52-86d0-67b6c4fbebe9"
      },
      "execution_count": 16,
      "outputs": [
        {
          "output_type": "stream",
          "name": "stdout",
          "text": [
            "검증 정확도:  0.8973158551810237\n",
            "검증 f1:  0.8622085718274467\n"
          ]
        }
      ]
    },
    {
      "cell_type": "code",
      "source": [
        "from sklearn.model_selection import RandomizedSearchCV\n",
        "from scipy.stats import randint, uniform\n",
        "def fit_trees(X_train, y_train):\n",
        "    pipe = None    # pipe = make_pipeline(...)\n",
        "    clf = None     # clf = RandomizedSearchCV(pipe, ...)\n",
        "\n",
        "    # YOUR CODE HERE\n",
        "\n",
        "    ## encoder, imputer, 모델을 포함하는 하나의 학습 파이프라인\n",
        "    pipe = make_pipeline(\n",
        "        OrdinalEncoder(),\n",
        "        RandomForestClassifier(n_estimators=300, random_state=2)\n",
        "    )\n",
        "\n",
        "    ## 적어도 두 개 이상의 하이퍼파라미터\n",
        "    dists = {\n",
        "        'randomforestclassifier__max_depth': [5,10,15,20,None],\n",
        "        'randomforestclassifier__max_features' : uniform(0, 1),\n",
        "    }\n",
        "    ## RandomizedSearchCV\n",
        "    clf = RandomizedSearchCV(\n",
        "        pipe, ## 파이프라인\n",
        "        param_distributions=dists, ## 탐색할 하이퍼파라미터\n",
        "        n_iter=3, ## n_iter 10회 이하\n",
        "        cv=4, ## cv 5 이하\n",
        "        scoring='f1',\n",
        "        verbose=1,\n",
        "        n_jobs=-1,\n",
        "        random_state=42\n",
        "    )\n",
        "    ## 훈련데이터로 학습\n",
        "    clf.fit(X_train, y_train)\n",
        "    # YOUR CODE ENDS HERE\n",
        "\n",
        "    return clf"
      ],
      "metadata": {
        "id": "tz1Li0l5IkVO"
      },
      "execution_count": 17,
      "outputs": []
    },
    {
      "cell_type": "code",
      "source": [
        "clf = fit_trees(X_train, y_train)"
      ],
      "metadata": {
        "colab": {
          "base_uri": "https://localhost:8080/"
        },
        "id": "FL3FFej0I-5Q",
        "outputId": "c1d2a213-9197-4733-d7bb-8a76253921f4"
      },
      "execution_count": 18,
      "outputs": [
        {
          "output_type": "stream",
          "name": "stdout",
          "text": [
            "Fitting 3 folds for each of 2 candidates, totalling 6 fits\n"
          ]
        }
      ]
    },
    {
      "cell_type": "code",
      "source": [
        "print(\"Best CV F1\", clf.best_score_)\n",
        "print(\"Best CV params\", clf.best_params_)"
      ],
      "metadata": {
        "colab": {
          "base_uri": "https://localhost:8080/"
        },
        "id": "A5P6g9H2JATd",
        "outputId": "9685a4f8-c9ff-42f7-cbbf-55fd69bcec82"
      },
      "execution_count": 19,
      "outputs": [
        {
          "output_type": "stream",
          "name": "stdout",
          "text": [
            "Best CV F1 0.859584146866331\n",
            "Best CV params {'randomforestclassifier__max_depth': None, 'randomforestclassifier__max_features': 0.596850157946487, 'randomforestclassifier__n_estimators': 171}\n"
          ]
        }
      ]
    },
    {
      "cell_type": "code",
      "source": [
        "from sklearn.metrics import classification_report\n",
        "def predict(X, y, best_estimator):\n",
        "    y_pred_proba = None\n",
        "\n",
        "    # YOUR CODE HERE\n",
        "    y_pred_proba = best_estimator.predict_proba(X)[:,1]\n",
        "    \n",
        "    # YOUR CODE ENDS HERE\n",
        "\n",
        "    report = classification_report(y, y_pred_proba > 0.5)\n",
        "    return y_pred_proba, report"
      ],
      "metadata": {
        "id": "dBp8gc2hKSCM"
      },
      "execution_count": 20,
      "outputs": []
    },
    {
      "cell_type": "code",
      "source": [
        "from sklearn.metrics import roc_curve, roc_auc_score\n",
        "\n",
        "y_test = y_true\n",
        "def plot_roc(y, y_pred_proba):\n",
        "    auc_score = roc_auc_score(y, y_pred_proba)\n",
        "    fpr, tpr, _ = roc_curve(y, y_pred_proba)\n",
        "    baseline_fpr, baseline_tpr, _ = roc_curve(y, [0] * len(y))\n",
        "\n",
        "    plt.style.use(\"ggplot\")\n",
        "    plt.plot(fpr, tpr, label=\"Model\")\n",
        "    plt.plot(baseline_fpr, baseline_tpr, linestyle=\"--\", label=\"Baseline\")\n",
        "    plt.xlabel(\"False Positive Rate\", size=12)\n",
        "    plt.ylabel(\"True Positive Rate\", size=12)\n",
        "    plt.title(\"Receiver Operating Characteristic\")\n",
        "    plt.legend(prop={\"size\": 12})\n",
        "    plt.show()\n",
        "    return auc_score\n",
        "\n",
        "\n",
        "y_test_pred_proba, report = predict(X_test, y_test, clf.best_estimator_)\n",
        "print(report)\n",
        "auc_score = plot_roc(y_test, y_test_pred_proba)"
      ],
      "metadata": {
        "colab": {
          "base_uri": "https://localhost:8080/",
          "height": 465
        },
        "id": "1ZMH8DzzAytJ",
        "outputId": "8421d452-5056-4ada-b1d5-5a80b5c8d166"
      },
      "execution_count": 21,
      "outputs": [
        {
          "output_type": "stream",
          "name": "stdout",
          "text": [
            "              precision    recall  f1-score   support\n",
            "\n",
            "       False       0.90      0.93      0.92      3342\n",
            "        True       0.87      0.84      0.85      1998\n",
            "\n",
            "    accuracy                           0.89      5340\n",
            "   macro avg       0.89      0.88      0.89      5340\n",
            "weighted avg       0.89      0.89      0.89      5340\n",
            "\n"
          ]
        },
        {
          "output_type": "display_data",
          "data": {
            "text/plain": [
              "<Figure size 432x288 with 1 Axes>"
            ],
            "image/png": "[encoded data removed]"
          },
          "metadata": {}
        }
      ]
    },
    {
      "cell_type": "code",
      "source": [
        "print(\"Test AUC:\", auc_score)"
      ],
      "metadata": {
        "colab": {
          "base_uri": "https://localhost:8080/"
        },
        "id": "M71zNZg8Ks68",
        "outputId": "e28bc3f5-4feb-4e5b-cd75-f0b68b1b5f4e"
      },
      "execution_count": 22,
      "outputs": [
        {
          "output_type": "stream",
          "name": "stdout",
          "text": [
            "Test AUC: 0.9601958331760845\n"
          ]
        }
      ]
    },
    {
      "cell_type": "code",
      "source": [
        "pipeline = clf.best_estimator_\n",
        "\n",
        "# TODO: pipeline을 preprocess_pipeline과 model로 나눠 주세요.\n",
        "preprocess_pipeline = None\n",
        "model = None\n",
        "# YOUR CODE HERE\n",
        "from sklearn.pipeline import Pipeline\n",
        "encoder = pipeline.named_steps['ordinalencoder']\n",
        "model = pipeline.named_steps['randomforestclassifier']\n",
        "\n",
        "pipe = Pipeline([\n",
        "    ('preprocessing', make_pipeline(encoder)),\n",
        "    ('rf', model) \n",
        "])\n",
        "\n",
        "preprocess_pipeline = pipe.named_steps['preprocessing']\n",
        "model = pipe.named_steps['rf']\n",
        "\n",
        "# YOUR CODE ENDS HERE\n",
        "\n",
        "# TODO: X_test를 preprocess_pipeline에 통과시켜 X_test_preprocessed를 만드세요.\n",
        "X_test_preprocessed = None\n",
        "# YOUR CODE HERE\n",
        "X_test_preprocessed = preprocess_pipeline.transform(X_test)\n",
        "# YOUR CODE ENDS HERE"
      ],
      "metadata": {
        "id": "ZwcvBH7uJOdU"
      },
      "execution_count": 23,
      "outputs": []
    },
    {
      "cell_type": "code",
      "source": [
        "import eli5\n",
        "from eli5.sklearn import PermutationImportance\n",
        "\n",
        "\n",
        "def get_permutation_importance(X, y, model):\n",
        "    permuter = None\n",
        "    # permuter = PermutationImportance(..., n_iter=5, random_state=42)\n",
        "\n",
        "    # YOUR CODE HERE\n",
        "    permuter = PermutationImportance(\n",
        "        pipe.named_steps['rf'], # model\n",
        "        scoring='roc_auc', # metric\n",
        "        n_iter=5, # 다른 random seed를 사용하여 5번 반복\n",
        "    )\n",
        "    \n",
        "    # YOUR CODE ENDS HERE\n",
        "    permuter.fit(X, y)\n",
        "\n",
        "    return permuter"
      ],
      "metadata": {
        "id": "gn8zFnIlJVM6"
      },
      "execution_count": 24,
      "outputs": []
    },
    {
      "cell_type": "code",
      "source": [
        "permuter = get_permutation_importance(X_test_preprocessed, y_test, model)"
      ],
      "metadata": {
        "id": "EMmxRoyRLwkr"
      },
      "execution_count": 25,
      "outputs": []
    },
    {
      "cell_type": "code",
      "source": [
        "zip(X_test.columns, permuter.feature_importances_)"
      ],
      "metadata": {
        "colab": {
          "base_uri": "https://localhost:8080/"
        },
        "id": "UCDSkv-GL5E3",
        "outputId": "c5f8f319-84e3-4567-a6c4-35a0fb13316d"
      },
      "execution_count": 26,
      "outputs": [
        {
          "output_type": "execute_result",
          "data": {
            "text/plain": [
              "<zip at 0x7f6e693285c0>"
            ]
          },
          "metadata": {},
          "execution_count": 26
        }
      ]
    },
    {
      "cell_type": "code",
      "source": [
        "permuter.feature_importances_"
      ],
      "metadata": {
        "colab": {
          "base_uri": "https://localhost:8080/"
        },
        "id": "wr_9XPBAL1B2",
        "outputId": "0e62d90d-6715-485d-e882-af89541d4e8b"
      },
      "execution_count": 27,
      "outputs": [
        {
          "output_type": "execute_result",
          "data": {
            "text/plain": [
              "array([ 4.09475903e-04,  1.49910533e-05, -3.09825085e-04,  4.05090908e-03,\n",
              "       -3.07758387e-05,  2.02272919e-01,  4.50768542e-02,  2.32249005e-04,\n",
              "        4.83697342e-04,  1.68016610e-04,  3.64218198e-04,  9.62385186e-03,\n",
              "        2.12869962e-04,  7.09102280e-04])"
            ]
          },
          "metadata": {},
          "execution_count": 27
        }
      ]
    },
    {
      "cell_type": "code",
      "source": [
        "permuter = get_permutation_importance(X_test_preprocessed, y_test, model)\n",
        "eli5.show_weights(permuter, top=None, feature_names=X_test.columns.tolist())\n",
        "print(\"Top3 Important Features:\")\n",
        "p_i = sorted(\n",
        "    list(zip(X_test.columns.tolist(), permuter.feature_importances_)),\n",
        "    key=lambda x: x[1],\n",
        "    reverse=True,\n",
        ")\n",
        "print(p_i[:3])"
      ],
      "metadata": {
        "colab": {
          "base_uri": "https://localhost:8080/"
        },
        "id": "oYPXsz7wJWx0",
        "outputId": "3259707a-240a-4be9-9953-074c268ef2cc"
      },
      "execution_count": 28,
      "outputs": [
        {
          "output_type": "stream",
          "name": "stdout",
          "text": [
            "Top3 Important Features:\n",
            "[('total_damage_to_players', 0.20609482911996374), ('players_eliminated', 0.046724477319929125), ('cost_sum', 0.008925786947929337)]\n"
          ]
        }
      ]
    },
    {
      "cell_type": "code",
      "source": [
        "p_i"
      ],
      "metadata": {
        "colab": {
          "base_uri": "https://localhost:8080/"
        },
        "id": "0Bs95H_KLQGQ",
        "outputId": "a88b785e-2408-49b7-ec8d-0be185d84c79"
      },
      "execution_count": 29,
      "outputs": [
        {
          "output_type": "execute_result",
          "data": {
            "text/plain": [
              "[('total_damage_to_players', 0.20609482911996374),\n",
              " ('players_eliminated', 0.046724477319929125),\n",
              " ('cost_sum', 0.008925786947929337),\n",
              " ('level', 0.0036729278650283526),\n",
              " ('high_cost_ratio', 0.001084402775007165),\n",
              " ('main_synergy', 0.00032695771774158275),\n",
              " ('num_activated_synergy', 0.0002865223092630931),\n",
              " ('augment1', 0.0002244015409783806),\n",
              " ('main_synergy_score', 0.0001782602470812744),\n",
              " ('total_synergy_score', 0.00011941923970639756),\n",
              " ('high_cost_sum', 0.00010198708582898064),\n",
              " ('augment2', -9.472368838023826e-05),\n",
              " ('gold_left', -0.00027004862432755683),\n",
              " ('augment3', -0.0003522223600022301)]"
            ]
          },
          "metadata": {},
          "execution_count": 29
        }
      ]
    },
    {
      "cell_type": "code",
      "source": [
        "# 테스트셋 예측 결과 계산하는 함수\n",
        "def calculate_score(pipe, X_test, y_test):\n",
        "    test_accuracy = pipe.score(X_test, y_test)\n",
        "    test_f1 = f1_score(y_test, pipe.predict(X_test))\n",
        "    return test_accuracy, test_f1"
      ],
      "metadata": {
        "id": "ZsuvjIPSJf_g"
      },
      "execution_count": 30,
      "outputs": []
    },
    {
      "cell_type": "code",
      "source": [
        "test_accuracy, test_f1 = calculate_score(clf.best_estimator_, X_test, y_test)"
      ],
      "metadata": {
        "id": "gDc-8G-xJ_sY"
      },
      "execution_count": 31,
      "outputs": []
    },
    {
      "cell_type": "code",
      "source": [
        "print(\"test accuracy: \", test_accuracy)\n",
        "print(\"test F1:\", test_f1)"
      ],
      "metadata": {
        "colab": {
          "base_uri": "https://localhost:8080/"
        },
        "id": "_zCvBtPaKAQc",
        "outputId": "baabb254-adfc-4ba5-ad8a-ea54d82c3a7e"
      },
      "execution_count": 32,
      "outputs": [
        {
          "output_type": "stream",
          "name": "stdout",
          "text": [
            "test accuracy:  0.8938202247191012\n",
            "test F1: 0.8548758638341438\n"
          ]
        }
      ]
    },
    {
      "cell_type": "code",
      "source": [
        "from pdpbox.pdp import pdp_isolate, pdp_plot\n",
        "\n",
        "\n",
        "def get_pdp_isolated(dataset, model, feature):\n",
        "    pdp_isolated = None\n",
        "\n",
        "    # YOUR CODE HERE\n",
        "    pdp_isolated = pdp_isolate(\n",
        "        model=model, \n",
        "        dataset=dataset, \n",
        "        model_features=dataset.columns, \n",
        "        feature=feature,\n",
        "        grid_type='percentile', # default='percentile', or 'equal'\n",
        "        num_grid_points=50 # default=10\n",
        "    )\n",
        "    \n",
        "    # YOUR CODE ENDS HERE\n",
        "\n",
        "    return pdp_isolated"
      ],
      "metadata": {
        "id": "oc2tCOAVMU94"
      },
      "execution_count": 37,
      "outputs": []
    },
    {
      "cell_type": "code",
      "source": [
        "X_test_preprocessed_df = pd.DataFrame(X_test_preprocessed, columns=X_test.columns)\n",
        "feature = sorted(p_i, key=lambda x: x[1], reverse=True)[0][0]\n",
        "pdp_isolated = get_pdp_isolated(X_test_preprocessed_df, model, feature)\n",
        "pdp_plot(pdp_isolated, feature_name=feature)"
      ],
      "metadata": {
        "colab": {
          "base_uri": "https://localhost:8080/",
          "height": 634
        },
        "id": "vaJKMQZ9MZFR",
        "outputId": "6a770001-eb2f-4b31-8795-ec251d5f2965"
      },
      "execution_count": 38,
      "outputs": [
        {
          "output_type": "execute_result",
          "data": {
            "text/plain": [
              "(<Figure size 1080x684 with 2 Axes>,\n",
              " {'title_ax': <matplotlib.axes._subplots.AxesSubplot at 0x7f6dfc52e3d0>,\n",
              "  'pdp_ax': <matplotlib.axes._subplots.AxesSubplot at 0x7f6dfaccfaf0>})"
            ]
          },
          "metadata": {},
          "execution_count": 38
        },
        {
          "output_type": "display_data",
          "data": {
            "text/plain": [
              "<Figure size 1080x684 with 2 Axes>"
            ],
            "image/png": "[encoded data removed]"
          },
          "metadata": {}
        }
      ]
    },
    {
      "cell_type": "code",
      "source": [
        "from pdpbox.pdp import pdp_interact, pdp_interact_plot\n",
        "\n",
        "\n",
        "def get_pdp_interaction(dataset, model, features):\n",
        "    pdp_interaction = None\n",
        "\n",
        "    # YOUR CODE HERE\n",
        "    pdp_interaction = pdp_interact(\n",
        "        model = model, \n",
        "        dataset = dataset,\n",
        "        model_features = dataset.columns, \n",
        "        features = features\n",
        "    )\n",
        "    \n",
        "    # YOUR CODE ENDS HERE\n",
        "\n",
        "    return pdp_interaction"
      ],
      "metadata": {
        "id": "eKjLvWMlQ-Q5"
      },
      "execution_count": 35,
      "outputs": []
    },
    {
      "cell_type": "code",
      "source": [
        "features = list(map(lambda x: x[0], sorted(p_i, key=lambda x: x[1], reverse=True)))[:2]\n",
        "pdp_interaction = get_pdp_interaction(X_test_preprocessed_df, model, features)\n",
        "pdp_interact_plot(pdp_interaction, feature_names=features, plot_type=\"grid\")"
      ],
      "metadata": {
        "id": "llRY4rynQ_Qs",
        "outputId": "470feeaf-61bc-4de8-d7bc-e305c3f5ec9f",
        "colab": {
          "base_uri": "https://localhost:8080/",
          "height": 636
        }
      },
      "execution_count": 36,
      "outputs": [
        {
          "output_type": "execute_result",
          "data": {
            "text/plain": [
              "(<Figure size 540x684 with 3 Axes>,\n",
              " {'title_ax': <matplotlib.axes._subplots.AxesSubplot at 0x7f6dfcafd040>,\n",
              "  'pdp_inter_ax': <matplotlib.axes._subplots.AxesSubplot at 0x7f6dfc6cbe20>})"
            ]
          },
          "metadata": {},
          "execution_count": 36
        },
        {
          "output_type": "stream",
          "name": "stderr",
          "text": [
            "WARNING:matplotlib.font_manager:findfont: Font family ['Arial'] not found. Falling back to DejaVu Sans.\n"
          ]
        },
        {
          "output_type": "display_data",
          "data": {
            "text/plain": [
              "<Figure size 540x684 with 3 Axes>"
            ],
            "image/png": "[encoded data removed]"
          },
          "metadata": {}
        }
      ]
    }
  ]
}