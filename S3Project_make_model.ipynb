{
  "nbformat": 4,
  "nbformat_minor": 0,
  "metadata": {
    "colab": {
      "provenance": [],
      "authorship_tag": "ABX9TyNiZLJDX0hSNLApDa7QCoUK",
      "include_colab_link": true
    },
    "kernelspec": {
      "name": "python3",
      "display_name": "Python 3"
    },
    "language_info": {
      "name": "python"
    }
  },
  "cells": [
    {
      "cell_type": "markdown",
      "metadata": {
        "id": "view-in-github",
        "colab_type": "text"
      },
      "source": [
        "<a href=\"https://colab.research.google.com/github/ysooch0819/AI16-Projects/blob/main/S3Project_make_model.ipynb\" target=\"_parent\"><img src=\"https://colab.research.google.com/assets/colab-badge.svg\" alt=\"Open In Colab\"/></a>"
      ]
    },
    {
      "cell_type": "code",
      "source": [
        "!pip install psycopg2"
      ],
      "metadata": {
        "colab": {
          "base_uri": "https://localhost:8080/"
        },
        "id": "DHQGJL1bl7FC",
        "outputId": "413e39b6-5afb-4302-9ccc-8bea9c933322"
      },
      "execution_count": 1,
      "outputs": [
        {
          "output_type": "stream",
          "name": "stdout",
          "text": [
            "Looking in indexes: https://pypi.org/simple, https://us-python.pkg.dev/colab-wheels/public/simple/\n",
            "Requirement already satisfied: psycopg2 in /usr/local/lib/python3.8/dist-packages (2.9.5)\n"
          ]
        }
      ]
    },
    {
      "cell_type": "code",
      "execution_count": 2,
      "metadata": {
        "id": "RKfGS69cGsTw"
      },
      "outputs": [],
      "source": [
        "import pandas as pd\n",
        "import psycopg2\n",
        "import json"
      ]
    },
    {
      "cell_type": "code",
      "source": [
        "# 챌린저/그마 데이터 접속용\n",
        "conn = psycopg2.connect(\n",
        "    host='floppy.db.elephantsql.com',\n",
        "    user='dnxuvido',\n",
        "    password='wbCrbGaYSKPsSg-qCddu4aKGZxgAFWuz',\n",
        "    database='dnxuvido'\n",
        ")\n",
        "cur = conn.cursor()"
      ],
      "metadata": {
        "id": "ZrkLGYQSmA9y"
      },
      "execution_count": 3,
      "outputs": []
    },
    {
      "cell_type": "code",
      "source": [
        "# 데이터 받아오기\n",
        "cur.execute(\"SELECT * FROM chal_test\")\n",
        "chal_df = pd.DataFrame(cur.fetchall())\n",
        "cur.execute(\"SELECT * FROM grandmaster_test\")\n",
        "gm_df = pd.DataFrame(cur.fetchall())\n",
        "\n"
      ],
      "metadata": {
        "id": "ebLka3PRmUdV"
      },
      "execution_count": 4,
      "outputs": []
    },
    {
      "cell_type": "code",
      "source": [
        "# 마스터 데이터 접속용\n",
        "conn2 = psycopg2.connect(\n",
        "    host='mahmud.db.elephantsql.com',\n",
        "    user='ysgzfdtl',\n",
        "    password='dJZXvOPOfXj6Z6kXcWYLzAj10-kUhrq4',\n",
        "    database='ysgzfdtl'\n",
        ")\n",
        "cur2 = conn2.cursor()"
      ],
      "metadata": {
        "id": "PJuNlxcEn_2_"
      },
      "execution_count": 5,
      "outputs": []
    },
    {
      "cell_type": "code",
      "source": [
        "cur2.execute(\"SELECT * FROM master_test\")\n",
        "master_df = pd.DataFrame(cur2.fetchall())"
      ],
      "metadata": {
        "id": "uKeIkB8ToOQW"
      },
      "execution_count": 6,
      "outputs": []
    },
    {
      "cell_type": "code",
      "source": [
        "chal_df = chal_df.rename(columns={0:'index', 1:'augments', 2:'traits', 3:'units', 4:'level', 5:'placement', 6:'cost_sum', 7:'highCost_sum', 8:'highCost_ratio'}).set_index('index').reset_index().drop(columns=['index'])\n",
        "gm_df = gm_df.rename(columns={0:'index', 1:'augments', 2:'traits', 3:'units', 4:'level', 5:'placement', 6:'cost_sum', 7:'highCost_sum', 8:'highCost_ratio'}).set_index('index').reset_index().drop(columns=['index'])\n",
        "master_df = master_df.rename(columns={0:'index', 1:'augments', 2:'traits', 3:'units', 4:'level', 5:'placement', 6:'cost_sum', 7:'highCost_sum', 8:'highCost_ratio'}).set_index('index').reset_index().drop(columns=['index'])"
      ],
      "metadata": {
        "id": "8EtWkiBTmnCS"
      },
      "execution_count": 7,
      "outputs": []
    },
    {
      "cell_type": "code",
      "source": [
        "chal_df.shape, gm_df.shape, master_df.shape"
      ],
      "metadata": {
        "colab": {
          "base_uri": "https://localhost:8080/"
        },
        "id": "VXml1no2DsLS",
        "outputId": "391dbc5b-cea6-47dc-df1d-3060e8f32212"
      },
      "execution_count": 8,
      "outputs": [
        {
          "output_type": "execute_result",
          "data": {
            "text/plain": [
              "((27840, 8), (64000, 8), (57720, 8))"
            ]
          },
          "metadata": {},
          "execution_count": 8
        }
      ]
    },
    {
      "cell_type": "code",
      "source": [
        "total_df = pd.concat([chal_df, gm_df, master_df], axis=0).reset_index().drop(columns='index')\n",
        "total_df"
      ],
      "metadata": {
        "id": "s0sU2AzupFGP",
        "outputId": "2666ae50-17e4-43fb-939c-8e0ffb577dd5",
        "colab": {
          "base_uri": "https://localhost:8080/",
          "height": 956
        }
      },
      "execution_count": 9,
      "outputs": [
        {
          "output_type": "execute_result",
          "data": {
            "text/plain": [
              "                                                 augments  \\\n",
              "0       ['TFT7_Augment_BandOfThieves1', 'TFT6_Augment_...   \n",
              "1       ['TFT6_Augment_Battlemage1', 'TFT6_Augment_Cel...   \n",
              "2       ['TFT8_Augment_ADMINTrait', 'TFT7_Augment_Prep...   \n",
              "3       ['TFT8_Augment_StarGuardianTrait', 'TFT6_Augme...   \n",
              "4       ['TFT7_Augment_AFK', 'TFT6_Augment_Featherweig...   \n",
              "...                                                   ...   \n",
              "149555  ['TFT8_Augment_BrawlerEmblem', 'TFT8_Augment_V...   \n",
              "149556  ['TFT8_Augment_PranksterEmblem', 'TFT8_Augment...   \n",
              "149557  ['TFT6_Augment_CalculatedLoss', 'TFT8_Augment_...   \n",
              "149558  ['TFT6_Augment_LudensEcho2', 'TFT8_Augment_ViS...   \n",
              "149559  ['TFT6_Augment_ThrillOfTheHunt2', 'TFT8_Augmen...   \n",
              "\n",
              "                                                   traits  \\\n",
              "0       [{'name': 'Set8_Admin', 'num_units': 1, 'style...   \n",
              "1       [{'name': 'Set8_AnimaSquad', 'num_units': 1, '...   \n",
              "2       [{'name': 'Set8_Admin', 'num_units': 4, 'style...   \n",
              "3       [{'name': 'Set8_Aegis', 'num_units': 2, 'style...   \n",
              "4       [{'name': 'Set8_Ace', 'num_units': 1, 'style':...   \n",
              "...                                                   ...   \n",
              "149555  [{'name': 'Set8_Admin', 'num_units': 2, 'style...   \n",
              "149556  [{'name': 'Set8_Aegis', 'num_units': 1, 'style...   \n",
              "149557  [{'name': 'Set8_Brawler', 'num_units': 2, 'sty...   \n",
              "149558  [{'name': 'Set8_Admin', 'num_units': 2, 'style...   \n",
              "149559  [{'name': 'Set8_Ace', 'num_units': 1, 'style':...   \n",
              "\n",
              "                                                    units  level  placement  \\\n",
              "0       [{'character_id': 'TFT8_Annie', 'itemNames': [...      8          2   \n",
              "1       [{'character_id': 'TFT8_Kayle', 'itemNames': [...      7          4   \n",
              "2       [{'character_id': 'TFT8_Sylas', 'itemNames': [...      8          6   \n",
              "3       [{'character_id': 'TFT8_Lux', 'itemNames': [],...      8          8   \n",
              "4       [{'character_id': 'TFT8_Fiora', 'itemNames': [...      8          7   \n",
              "...                                                   ...    ...        ...   \n",
              "149555  [{'character_id': 'TFT8_Blitzcrank', 'itemName...      7          8   \n",
              "149556  [{'character_id': 'TFT8_Yasuo', 'itemNames': [...      7          6   \n",
              "149557  [{'character_id': 'TFT8_Gangplank', 'itemNames...      7          3   \n",
              "149558  [{'character_id': 'TFT8_Vi', 'itemNames': ['TF...      8          1   \n",
              "149559  [{'character_id': 'TFT8_Vi', 'itemNames': [], ...      8          7   \n",
              "\n",
              "        cost_sum  highCost_sum  highCost_ratio  \n",
              "0             86            29        0.337209  \n",
              "1             73             4        0.054795  \n",
              "2             72            12        0.166667  \n",
              "3             50            34        0.680000  \n",
              "4             74            39        0.527027  \n",
              "...          ...           ...             ...  \n",
              "149555        35             8        0.228571  \n",
              "149556        53            20        0.377358  \n",
              "149557        88             4        0.045455  \n",
              "149558       114            36        0.315789  \n",
              "149559        61            37        0.606557  \n",
              "\n",
              "[149560 rows x 8 columns]"
            ],
            "text/html": [
              "\n",
              "  <div id=\"df-e9530264-6fda-4a75-a2ba-04d20280b771\">\n",
              "    <div class=\"colab-df-container\">\n",
              "      <div>\n",
              "<style scoped>\n",
              "    .dataframe tbody tr th:only-of-type {\n",
              "        vertical-align: middle;\n",
              "    }\n",
              "\n",
              "    .dataframe tbody tr th {\n",
              "        vertical-align: top;\n",
              "    }\n",
              "\n",
              "    .dataframe thead th {\n",
              "        text-align: right;\n",
              "    }\n",
              "</style>\n",
              "<table border=\"1\" class=\"dataframe\">\n",
              "  <thead>\n",
              "    <tr style=\"text-align: right;\">\n",
              "      <th></th>\n",
              "      <th>augments</th>\n",
              "      <th>traits</th>\n",
              "      <th>units</th>\n",
              "      <th>level</th>\n",
              "      <th>placement</th>\n",
              "      <th>cost_sum</th>\n",
              "      <th>highCost_sum</th>\n",
              "      <th>highCost_ratio</th>\n",
              "    </tr>\n",
              "  </thead>\n",
              "  <tbody>\n",
              "    <tr>\n",
              "      <th>0</th>\n",
              "      <td>['TFT7_Augment_BandOfThieves1', 'TFT6_Augment_...</td>\n",
              "      <td>[{'name': 'Set8_Admin', 'num_units': 1, 'style...</td>\n",
              "      <td>[{'character_id': 'TFT8_Annie', 'itemNames': [...</td>\n",
              "      <td>8</td>\n",
              "      <td>2</td>\n",
              "      <td>86</td>\n",
              "      <td>29</td>\n",
              "      <td>0.337209</td>\n",
              "    </tr>\n",
              "    <tr>\n",
              "      <th>1</th>\n",
              "      <td>['TFT6_Augment_Battlemage1', 'TFT6_Augment_Cel...</td>\n",
              "      <td>[{'name': 'Set8_AnimaSquad', 'num_units': 1, '...</td>\n",
              "      <td>[{'character_id': 'TFT8_Kayle', 'itemNames': [...</td>\n",
              "      <td>7</td>\n",
              "      <td>4</td>\n",
              "      <td>73</td>\n",
              "      <td>4</td>\n",
              "      <td>0.054795</td>\n",
              "    </tr>\n",
              "    <tr>\n",
              "      <th>2</th>\n",
              "      <td>['TFT8_Augment_ADMINTrait', 'TFT7_Augment_Prep...</td>\n",
              "      <td>[{'name': 'Set8_Admin', 'num_units': 4, 'style...</td>\n",
              "      <td>[{'character_id': 'TFT8_Sylas', 'itemNames': [...</td>\n",
              "      <td>8</td>\n",
              "      <td>6</td>\n",
              "      <td>72</td>\n",
              "      <td>12</td>\n",
              "      <td>0.166667</td>\n",
              "    </tr>\n",
              "    <tr>\n",
              "      <th>3</th>\n",
              "      <td>['TFT8_Augment_StarGuardianTrait', 'TFT6_Augme...</td>\n",
              "      <td>[{'name': 'Set8_Aegis', 'num_units': 2, 'style...</td>\n",
              "      <td>[{'character_id': 'TFT8_Lux', 'itemNames': [],...</td>\n",
              "      <td>8</td>\n",
              "      <td>8</td>\n",
              "      <td>50</td>\n",
              "      <td>34</td>\n",
              "      <td>0.680000</td>\n",
              "    </tr>\n",
              "    <tr>\n",
              "      <th>4</th>\n",
              "      <td>['TFT7_Augment_AFK', 'TFT6_Augment_Featherweig...</td>\n",
              "      <td>[{'name': 'Set8_Ace', 'num_units': 1, 'style':...</td>\n",
              "      <td>[{'character_id': 'TFT8_Fiora', 'itemNames': [...</td>\n",
              "      <td>8</td>\n",
              "      <td>7</td>\n",
              "      <td>74</td>\n",
              "      <td>39</td>\n",
              "      <td>0.527027</td>\n",
              "    </tr>\n",
              "    <tr>\n",
              "      <th>...</th>\n",
              "      <td>...</td>\n",
              "      <td>...</td>\n",
              "      <td>...</td>\n",
              "      <td>...</td>\n",
              "      <td>...</td>\n",
              "      <td>...</td>\n",
              "      <td>...</td>\n",
              "      <td>...</td>\n",
              "    </tr>\n",
              "    <tr>\n",
              "      <th>149555</th>\n",
              "      <td>['TFT8_Augment_BrawlerEmblem', 'TFT8_Augment_V...</td>\n",
              "      <td>[{'name': 'Set8_Admin', 'num_units': 2, 'style...</td>\n",
              "      <td>[{'character_id': 'TFT8_Blitzcrank', 'itemName...</td>\n",
              "      <td>7</td>\n",
              "      <td>8</td>\n",
              "      <td>35</td>\n",
              "      <td>8</td>\n",
              "      <td>0.228571</td>\n",
              "    </tr>\n",
              "    <tr>\n",
              "      <th>149556</th>\n",
              "      <td>['TFT8_Augment_PranksterEmblem', 'TFT8_Augment...</td>\n",
              "      <td>[{'name': 'Set8_Aegis', 'num_units': 1, 'style...</td>\n",
              "      <td>[{'character_id': 'TFT8_Yasuo', 'itemNames': [...</td>\n",
              "      <td>7</td>\n",
              "      <td>6</td>\n",
              "      <td>53</td>\n",
              "      <td>20</td>\n",
              "      <td>0.377358</td>\n",
              "    </tr>\n",
              "    <tr>\n",
              "      <th>149557</th>\n",
              "      <td>['TFT6_Augment_CalculatedLoss', 'TFT8_Augment_...</td>\n",
              "      <td>[{'name': 'Set8_Brawler', 'num_units': 2, 'sty...</td>\n",
              "      <td>[{'character_id': 'TFT8_Gangplank', 'itemNames...</td>\n",
              "      <td>7</td>\n",
              "      <td>3</td>\n",
              "      <td>88</td>\n",
              "      <td>4</td>\n",
              "      <td>0.045455</td>\n",
              "    </tr>\n",
              "    <tr>\n",
              "      <th>149558</th>\n",
              "      <td>['TFT6_Augment_LudensEcho2', 'TFT8_Augment_ViS...</td>\n",
              "      <td>[{'name': 'Set8_Admin', 'num_units': 2, 'style...</td>\n",
              "      <td>[{'character_id': 'TFT8_Vi', 'itemNames': ['TF...</td>\n",
              "      <td>8</td>\n",
              "      <td>1</td>\n",
              "      <td>114</td>\n",
              "      <td>36</td>\n",
              "      <td>0.315789</td>\n",
              "    </tr>\n",
              "    <tr>\n",
              "      <th>149559</th>\n",
              "      <td>['TFT6_Augment_ThrillOfTheHunt2', 'TFT8_Augmen...</td>\n",
              "      <td>[{'name': 'Set8_Ace', 'num_units': 1, 'style':...</td>\n",
              "      <td>[{'character_id': 'TFT8_Vi', 'itemNames': [], ...</td>\n",
              "      <td>8</td>\n",
              "      <td>7</td>\n",
              "      <td>61</td>\n",
              "      <td>37</td>\n",
              "      <td>0.606557</td>\n",
              "    </tr>\n",
              "  </tbody>\n",
              "</table>\n",
              "<p>149560 rows × 8 columns</p>\n",
              "</div>\n",
              "      <button class=\"colab-df-convert\" onclick=\"convertToInteractive('df-e9530264-6fda-4a75-a2ba-04d20280b771')\"\n",
              "              title=\"Convert this dataframe to an interactive table.\"\n",
              "              style=\"display:none;\">\n",
              "        \n",
              "  <svg xmlns=\"http://www.w3.org/2000/svg\" height=\"24px\"viewBox=\"0 0 24 24\"\n",
              "       width=\"24px\">\n",
              "    <path d=\"M0 0h24v24H0V0z\" fill=\"none\"/>\n",
              "    <path d=\"M18.56 5.44l.94 2.06.94-2.06 2.06-.94-2.06-.94-.94-2.06-.94 2.06-2.06.94zm-11 1L8.5 8.5l.94-2.06 2.06-.94-2.06-.94L8.5 2.5l-.94 2.06-2.06.94zm10 10l.94 2.06.94-2.06 2.06-.94-2.06-.94-.94-2.06-.94 2.06-2.06.94z\"/><path d=\"M17.41 7.96l-1.37-1.37c-.4-.4-.92-.59-1.43-.59-.52 0-1.04.2-1.43.59L10.3 9.45l-7.72 7.72c-.78.78-.78 2.05 0 2.83L4 21.41c.39.39.9.59 1.41.59.51 0 1.02-.2 1.41-.59l7.78-7.78 2.81-2.81c.8-.78.8-2.07 0-2.86zM5.41 20L4 18.59l7.72-7.72 1.47 1.35L5.41 20z\"/>\n",
              "  </svg>\n",
              "      </button>\n",
              "      \n",
              "  <style>\n",
              "    .colab-df-container {\n",
              "      display:flex;\n",
              "      flex-wrap:wrap;\n",
              "      gap: 12px;\n",
              "    }\n",
              "\n",
              "    .colab-df-convert {\n",
              "      background-color: #E8F0FE;\n",
              "      border: none;\n",
              "      border-radius: 50%;\n",
              "      cursor: pointer;\n",
              "      display: none;\n",
              "      fill: #1967D2;\n",
              "      height: 32px;\n",
              "      padding: 0 0 0 0;\n",
              "      width: 32px;\n",
              "    }\n",
              "\n",
              "    .colab-df-convert:hover {\n",
              "      background-color: #E2EBFA;\n",
              "      box-shadow: 0px 1px 2px rgba(60, 64, 67, 0.3), 0px 1px 3px 1px rgba(60, 64, 67, 0.15);\n",
              "      fill: #174EA6;\n",
              "    }\n",
              "\n",
              "    [theme=dark] .colab-df-convert {\n",
              "      background-color: #3B4455;\n",
              "      fill: #D2E3FC;\n",
              "    }\n",
              "\n",
              "    [theme=dark] .colab-df-convert:hover {\n",
              "      background-color: #434B5C;\n",
              "      box-shadow: 0px 1px 3px 1px rgba(0, 0, 0, 0.15);\n",
              "      filter: drop-shadow(0px 1px 2px rgba(0, 0, 0, 0.3));\n",
              "      fill: #FFFFFF;\n",
              "    }\n",
              "  </style>\n",
              "\n",
              "      <script>\n",
              "        const buttonEl =\n",
              "          document.querySelector('#df-e9530264-6fda-4a75-a2ba-04d20280b771 button.colab-df-convert');\n",
              "        buttonEl.style.display =\n",
              "          google.colab.kernel.accessAllowed ? 'block' : 'none';\n",
              "\n",
              "        async function convertToInteractive(key) {\n",
              "          const element = document.querySelector('#df-e9530264-6fda-4a75-a2ba-04d20280b771');\n",
              "          const dataTable =\n",
              "            await google.colab.kernel.invokeFunction('convertToInteractive',\n",
              "                                                     [key], {});\n",
              "          if (!dataTable) return;\n",
              "\n",
              "          const docLinkHtml = 'Like what you see? Visit the ' +\n",
              "            '<a target=\"_blank\" href=https://colab.research.google.com/notebooks/data_table.ipynb>data table notebook</a>'\n",
              "            + ' to learn more about interactive tables.';\n",
              "          element.innerHTML = '';\n",
              "          dataTable['output_type'] = 'display_data';\n",
              "          await google.colab.output.renderOutput(dataTable, element);\n",
              "          const docLink = document.createElement('div');\n",
              "          docLink.innerHTML = docLinkHtml;\n",
              "          element.appendChild(docLink);\n",
              "        }\n",
              "      </script>\n",
              "    </div>\n",
              "  </div>\n",
              "  "
            ]
          },
          "metadata": {},
          "execution_count": 9
        }
      ]
    },
    {
      "cell_type": "code",
      "source": [
        "total_df.to_csv('total_df.csv')"
      ],
      "metadata": {
        "id": "1MJBK_qC7-9D"
      },
      "execution_count": 10,
      "outputs": []
    },
    {
      "cell_type": "code",
      "source": [
        "import pandas as pd\n",
        "from sklearn.metrics import r2_score\n",
        "from sklearn.model_selection import train_test_split\n",
        "\n",
        "total_df = pd.read_csv('total_df.csv')\n",
        "\n",
        "# 중복 제거하여 모델링 학습용 userData 생성\n",
        "userData = total_df.drop_duplicates().reset_index().drop(columns={'index'})\n",
        "train, test = train_test_split(userData, test_size=0.1, stratify=userData['placement'],random_state=42)\n",
        "\n",
        "print(train.shape, test.shape)\n",
        "\n",
        "# 타겟과 특성 정돈\n",
        "target = 'placement'\n",
        "features = ['level', 'cost_sum', 'highCost_sum', 'highCost_ratio']\n",
        "\n",
        "X_train = train[features]\n",
        "y_train = train[target]\n",
        "\n",
        "X_test = test[features]\n",
        "y_test = test[target]\n",
        "\n",
        "# 랜덤포레스트회귀 모델로 결정\n",
        "from sklearn.ensemble import RandomForestRegressor\n",
        "model = RandomForestRegressor()\n",
        "\n",
        "# 모델 학습\n",
        "model.fit(X_train, y_train)\n",
        "\n",
        "y_pred = model.predict(X_test)\n",
        "print('R2 score: ', r2_score(y_test, y_pred)) # r2 0.57.. 성능 안좋다\n",
        "\n",
        "# 모델 피클링, 추후 flask에서 사용 예정\n",
        "import pickle\n",
        "\n",
        "with open('model.pkl', 'wb') as pickle_file:\n",
        "    pickle.dump(model, pickle_file)"
      ],
      "metadata": {
        "id": "eDQgXi3F8Cv8"
      },
      "execution_count": null,
      "outputs": []
    }
  ]
}