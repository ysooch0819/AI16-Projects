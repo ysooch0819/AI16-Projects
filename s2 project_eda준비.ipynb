{
  "nbformat": 4,
  "nbformat_minor": 0,
  "metadata": {
    "colab": {
      "provenance": [],
      "authorship_tag": "ABX9TyNd5K8CypnSTLCgCt2E2pV+",
      "include_colab_link": true
    },
    "kernelspec": {
      "name": "python3",
      "display_name": "Python 3"
    },
    "language_info": {
      "name": "python"
    }
  },
  "cells": [
    {
      "cell_type": "markdown",
      "metadata": {
        "id": "view-in-github",
        "colab_type": "text"
      },
      "source": [
        "<a href=\"https://colab.research.google.com/github/ysooch0819/AI16-Projects/blob/main/s2%20project_eda%EC%A4%80%EB%B9%84.ipynb\" target=\"_parent\"><img src=\"https://colab.research.google.com/assets/colab-badge.svg\" alt=\"Open In Colab\"/></a>"
      ]
    },
    {
      "cell_type": "code",
      "execution_count": 84,
      "metadata": {
        "id": "wlSUMT0nbuG3"
      },
      "outputs": [],
      "source": [
        "import pandas as pd\n",
        "import json\n",
        "\n",
        "js1 = {\n",
        "    'augments': ['TFT6_Augment_JeweledLotus', 'TFT7_Augment_PandorasBench', 'TFT7_Augment_LagoonEmblem'],\n",
        "    'gold_left': 50,\n",
        "    'last_round': 38,\n",
        "    'level' : 8,\n",
        "    'placement': 2,\n",
        "    'players_eliminated': 2,\n",
        "    'time_eliminated': 2311.573,\n",
        "    'total_damage_to_players': 183,\n",
        "    'traits': [{'name': 'Set7_Assassin', 'num_units': 1, 'style': 0, 'tier_current': 0, 'tier_total': 3}, {'name': 'Set7_Astral', 'num_units': 3, 'style': 1, 'tier_current': 1, 'tier_total': 3}, {'name': 'Set7_Bard', 'num_units': 1, 'style': 3, 'tier_current': 1, 'tier_total': 1}, {'name': 'Set7_Bruiser', 'num_units': 2, 'style': 1, 'tier_current': 1, 'tier_total': 4}, {'name': 'Set7_Dragon', 'num_units': 1, 'style': 1, 'tier_current': 1, 'tier_total': 6}, {'name': 'Set7_Guild', 'num_units': 1, 'style': 1, 'tier_current': 1, 'tier_total': 8}, {'name': 'Set7_Lagoon', 'num_units': 6, 'style': 2, 'tier_current': 2, 'tier_total': 4}, {'name': 'Set7_Mage', 'num_units': 5, 'style': 2, 'tier_current': 2, 'tier_total': 4}, {'name': 'Set7_Mystic', 'num_units': 1, 'style': 0, 'tier_current': 0, 'tier_total': 4}, {'name': 'Set7_Whispers', 'num_units': 1, 'style': 0, 'tier_current': 0, 'tier_total': 3}],\n",
        "    'units': [{'character_id': 'TFT7_Vladimir', 'itemNames': ['TFT_Item_TitanicHydra'], 'items': [27], 'name': 'Vladimir', 'rarity': 0, 'tier': 2}, {'character_id': 'TFT7_Skarner', 'itemNames': [], 'items': [], 'name': 'Skarner', 'rarity': 0, 'tier': 2}, {'character_id': 'TFT7_Taliyah', 'itemNames': [], 'items': [], 'name': '', 'rarity': 0, 'tier': 2}, {'character_id': 'TFT7_Lux', 'itemNames': ['TFT_Item_StatikkShiv', 'TFT_Item_Chalice', 'TFT_Item_Shroud'], 'items': [24, 46, 59], 'name': '', 'rarity': 1, 'tier': 2}, {'character_id': 'TFT7_Sylas', 'itemNames': ['TFT7_Item_LagoonEmblemItem', 'TFT_Item_IonicSpark', 'TFT_Item_GargoyleStoneplate'], 'items': [2100, 36, 56], 'name': '', 'rarity': 2, 'tier': 2}, {'character_id': 'TFT7_Nilah', 'itemNames': ['TFT_Item_UnstableConcoction', 'TFT_Item_GuinsoosRageblade', 'TFT_Item_LastWhisper'], 'items': [49, 23, 29], 'name': '', 'rarity': 4, 'tier': 3}, {'character_id': 'TFT7_AquaticDragon', 'itemNames': ['TFT_Item_SeraphsEmbrace', 'TFT_Item_HextechGunblade', 'TFT_Item_InfinityEdge'], 'items': [44, 13, 19], 'name': '', 'rarity': 5, 'tier': 3}, {'character_id': 'TFT7_Bard', 'itemNames': ['TFT_Item_RecurveBow'], 'items': [2], 'name': '', 'rarity': 6, 'tier': 2}]\n",
        "}\n"
      ]
    },
    {
      "cell_type": "code",
      "source": [
        "# key값 목록\n",
        "keys = []\n",
        "for list in js1:\n",
        "    keys.append(list)"
      ],
      "metadata": {
        "id": "cqWRiDoQoCQ7"
      },
      "execution_count": 99,
      "outputs": []
    },
    {
      "cell_type": "code",
      "source": [
        "df = pd.DataFrame(columns = keys)"
      ],
      "metadata": {
        "id": "7o5wxKmSpOfX"
      },
      "execution_count": 251,
      "outputs": []
    },
    {
      "cell_type": "code",
      "source": [
        "df = df.append(js1, ignore_index=True)"
      ],
      "metadata": {
        "id": "xkji9aAyqEG4"
      },
      "execution_count": 252,
      "outputs": []
    },
    {
      "cell_type": "code",
      "source": [
        "df"
      ],
      "metadata": {
        "colab": {
          "base_uri": "https://localhost:8080/",
          "height": 197
        },
        "id": "5tJqYnyMz_hM",
        "outputId": "e857ee80-79d8-4bd4-95c4-f88aee3d33c4"
      },
      "execution_count": 253,
      "outputs": [
        {
          "output_type": "execute_result",
          "data": {
            "text/plain": [
              "                                            augments gold_left last_round  \\\n",
              "0  [TFT6_Augment_JeweledLotus, TFT7_Augment_Pando...        50         38   \n",
              "\n",
              "  level placement players_eliminated  time_eliminated total_damage_to_players  \\\n",
              "0     8         2                  2         2311.573                     183   \n",
              "\n",
              "                                              traits  \\\n",
              "0  [{'name': 'Set7_Assassin', 'num_units': 1, 'st...   \n",
              "\n",
              "                                               units  \n",
              "0  [{'character_id': 'TFT7_Vladimir', 'itemNames'...  "
            ],
            "text/html": [
              "\n",
              "  <div id=\"df-33ad7bcc-b7cb-4b0d-95ba-28b2d8684ca8\">\n",
              "    <div class=\"colab-df-container\">\n",
              "      <div>\n",
              "<style scoped>\n",
              "    .dataframe tbody tr th:only-of-type {\n",
              "        vertical-align: middle;\n",
              "    }\n",
              "\n",
              "    .dataframe tbody tr th {\n",
              "        vertical-align: top;\n",
              "    }\n",
              "\n",
              "    .dataframe thead th {\n",
              "        text-align: right;\n",
              "    }\n",
              "</style>\n",
              "<table border=\"1\" class=\"dataframe\">\n",
              "  <thead>\n",
              "    <tr style=\"text-align: right;\">\n",
              "      <th></th>\n",
              "      <th>augments</th>\n",
              "      <th>gold_left</th>\n",
              "      <th>last_round</th>\n",
              "      <th>level</th>\n",
              "      <th>placement</th>\n",
              "      <th>players_eliminated</th>\n",
              "      <th>time_eliminated</th>\n",
              "      <th>total_damage_to_players</th>\n",
              "      <th>traits</th>\n",
              "      <th>units</th>\n",
              "    </tr>\n",
              "  </thead>\n",
              "  <tbody>\n",
              "    <tr>\n",
              "      <th>0</th>\n",
              "      <td>[TFT6_Augment_JeweledLotus, TFT7_Augment_Pando...</td>\n",
              "      <td>50</td>\n",
              "      <td>38</td>\n",
              "      <td>8</td>\n",
              "      <td>2</td>\n",
              "      <td>2</td>\n",
              "      <td>2311.573</td>\n",
              "      <td>183</td>\n",
              "      <td>[{'name': 'Set7_Assassin', 'num_units': 1, 'st...</td>\n",
              "      <td>[{'character_id': 'TFT7_Vladimir', 'itemNames'...</td>\n",
              "    </tr>\n",
              "  </tbody>\n",
              "</table>\n",
              "</div>\n",
              "      <button class=\"colab-df-convert\" onclick=\"convertToInteractive('df-33ad7bcc-b7cb-4b0d-95ba-28b2d8684ca8')\"\n",
              "              title=\"Convert this dataframe to an interactive table.\"\n",
              "              style=\"display:none;\">\n",
              "        \n",
              "  <svg xmlns=\"http://www.w3.org/2000/svg\" height=\"24px\"viewBox=\"0 0 24 24\"\n",
              "       width=\"24px\">\n",
              "    <path d=\"M0 0h24v24H0V0z\" fill=\"none\"/>\n",
              "    <path d=\"M18.56 5.44l.94 2.06.94-2.06 2.06-.94-2.06-.94-.94-2.06-.94 2.06-2.06.94zm-11 1L8.5 8.5l.94-2.06 2.06-.94-2.06-.94L8.5 2.5l-.94 2.06-2.06.94zm10 10l.94 2.06.94-2.06 2.06-.94-2.06-.94-.94-2.06-.94 2.06-2.06.94z\"/><path d=\"M17.41 7.96l-1.37-1.37c-.4-.4-.92-.59-1.43-.59-.52 0-1.04.2-1.43.59L10.3 9.45l-7.72 7.72c-.78.78-.78 2.05 0 2.83L4 21.41c.39.39.9.59 1.41.59.51 0 1.02-.2 1.41-.59l7.78-7.78 2.81-2.81c.8-.78.8-2.07 0-2.86zM5.41 20L4 18.59l7.72-7.72 1.47 1.35L5.41 20z\"/>\n",
              "  </svg>\n",
              "      </button>\n",
              "      \n",
              "  <style>\n",
              "    .colab-df-container {\n",
              "      display:flex;\n",
              "      flex-wrap:wrap;\n",
              "      gap: 12px;\n",
              "    }\n",
              "\n",
              "    .colab-df-convert {\n",
              "      background-color: #E8F0FE;\n",
              "      border: none;\n",
              "      border-radius: 50%;\n",
              "      cursor: pointer;\n",
              "      display: none;\n",
              "      fill: #1967D2;\n",
              "      height: 32px;\n",
              "      padding: 0 0 0 0;\n",
              "      width: 32px;\n",
              "    }\n",
              "\n",
              "    .colab-df-convert:hover {\n",
              "      background-color: #E2EBFA;\n",
              "      box-shadow: 0px 1px 2px rgba(60, 64, 67, 0.3), 0px 1px 3px 1px rgba(60, 64, 67, 0.15);\n",
              "      fill: #174EA6;\n",
              "    }\n",
              "\n",
              "    [theme=dark] .colab-df-convert {\n",
              "      background-color: #3B4455;\n",
              "      fill: #D2E3FC;\n",
              "    }\n",
              "\n",
              "    [theme=dark] .colab-df-convert:hover {\n",
              "      background-color: #434B5C;\n",
              "      box-shadow: 0px 1px 3px 1px rgba(0, 0, 0, 0.15);\n",
              "      filter: drop-shadow(0px 1px 2px rgba(0, 0, 0, 0.3));\n",
              "      fill: #FFFFFF;\n",
              "    }\n",
              "  </style>\n",
              "\n",
              "      <script>\n",
              "        const buttonEl =\n",
              "          document.querySelector('#df-33ad7bcc-b7cb-4b0d-95ba-28b2d8684ca8 button.colab-df-convert');\n",
              "        buttonEl.style.display =\n",
              "          google.colab.kernel.accessAllowed ? 'block' : 'none';\n",
              "\n",
              "        async function convertToInteractive(key) {\n",
              "          const element = document.querySelector('#df-33ad7bcc-b7cb-4b0d-95ba-28b2d8684ca8');\n",
              "          const dataTable =\n",
              "            await google.colab.kernel.invokeFunction('convertToInteractive',\n",
              "                                                     [key], {});\n",
              "          if (!dataTable) return;\n",
              "\n",
              "          const docLinkHtml = 'Like what you see? Visit the ' +\n",
              "            '<a target=\"_blank\" href=https://colab.research.google.com/notebooks/data_table.ipynb>data table notebook</a>'\n",
              "            + ' to learn more about interactive tables.';\n",
              "          element.innerHTML = '';\n",
              "          dataTable['output_type'] = 'display_data';\n",
              "          await google.colab.output.renderOutput(dataTable, element);\n",
              "          const docLink = document.createElement('div');\n",
              "          docLink.innerHTML = docLinkHtml;\n",
              "          element.appendChild(docLink);\n",
              "        }\n",
              "      </script>\n",
              "    </div>\n",
              "  </div>\n",
              "  "
            ]
          },
          "metadata": {},
          "execution_count": 253
        }
      ]
    },
    {
      "cell_type": "code",
      "source": [
        "keys[0]"
      ],
      "metadata": {
        "colab": {
          "base_uri": "https://localhost:8080/",
          "height": 35
        },
        "id": "sms1RiHapoTE",
        "outputId": "3bcfd7e4-40ef-497e-b2a2-a73d498e7014"
      },
      "execution_count": 254,
      "outputs": [
        {
          "output_type": "execute_result",
          "data": {
            "text/plain": [
              "'augments'"
            ],
            "application/vnd.google.colaboratory.intrinsic+json": {
              "type": "string"
            }
          },
          "metadata": {},
          "execution_count": 254
        }
      ]
    },
    {
      "cell_type": "code",
      "source": [
        "augments = []\n",
        "for list in js1.get(keys[0]):\n",
        "    augments.append(list)"
      ],
      "metadata": {
        "id": "NedA1oGWpZf4"
      },
      "execution_count": 255,
      "outputs": []
    },
    {
      "cell_type": "code",
      "source": [
        "augments"
      ],
      "metadata": {
        "colab": {
          "base_uri": "https://localhost:8080/"
        },
        "id": "IrOmxvrhqBcg",
        "outputId": "0992196b-2122-4aa6-9408-f32d6a6d2fe8"
      },
      "execution_count": 256,
      "outputs": [
        {
          "output_type": "execute_result",
          "data": {
            "text/plain": [
              "['TFT6_Augment_JeweledLotus',\n",
              " 'TFT7_Augment_PandorasBench',\n",
              " 'TFT7_Augment_LagoonEmblem']"
            ]
          },
          "metadata": {},
          "execution_count": 256
        }
      ]
    },
    {
      "cell_type": "code",
      "source": [
        "# 유닛에 착용시킨 아이템\n",
        "for list in js1.get('units'):\n",
        "    if list.get('itemNames') != []:\n",
        "        print(list.get('itemNames'))"
      ],
      "metadata": {
        "colab": {
          "base_uri": "https://localhost:8080/"
        },
        "id": "RPQPY_sonxfD",
        "outputId": "c8f2bf73-f0a0-40b9-f59e-bae8cebbe7f4"
      },
      "execution_count": 257,
      "outputs": [
        {
          "output_type": "stream",
          "name": "stdout",
          "text": [
            "['TFT_Item_TitanicHydra']\n",
            "['TFT_Item_StatikkShiv', 'TFT_Item_Chalice', 'TFT_Item_Shroud']\n",
            "['TFT7_Item_LagoonEmblemItem', 'TFT_Item_IonicSpark', 'TFT_Item_GargoyleStoneplate']\n",
            "['TFT_Item_UnstableConcoction', 'TFT_Item_GuinsoosRageblade', 'TFT_Item_LastWhisper']\n",
            "['TFT_Item_SeraphsEmbrace', 'TFT_Item_HextechGunblade', 'TFT_Item_InfinityEdge']\n",
            "['TFT_Item_RecurveBow']\n"
          ]
        }
      ]
    },
    {
      "cell_type": "code",
      "source": [
        "# 사용한 시너지조합 표기\n",
        "for list in js1.get('traits'):\n",
        "    # Current style for this trait. (0 = No style, 1 = Bronze, 2 = Silver, 3 = Gold, 4 = Chromatic)\n",
        "    if list.get('style') >0:\n",
        "        if list.get('style')==1: \n",
        "           # Current active tier for the trait.\n",
        "           print('Bronze\\t', list.get('name').replace('Set7_', ''),  ': ', list.get('num_units'))\n",
        "        elif list.get('style')==2:\n",
        "            print('Silver\\t', list.get('name').replace('Set7_', ''),  ': ', list.get('num_units'))\n",
        "        elif list.get('style')==3:\n",
        "            print('Gold\\t', list.get('name').replace('Set7_', ''),  ': ', list.get('num_units'))\n",
        "        else:\n",
        "            print('Chromatic\\t', list.get('name').replace('Set7_', ''), ': ', list.get('num_units'))"
      ],
      "metadata": {
        "colab": {
          "base_uri": "https://localhost:8080/"
        },
        "id": "sU-ijyRMqdui",
        "outputId": "35dacc9d-3706-4cac-82b2-09b669f07167"
      },
      "execution_count": 258,
      "outputs": [
        {
          "output_type": "stream",
          "name": "stdout",
          "text": [
            "Bronze\t Astral :  3\n",
            "Gold\t Bard :  1\n",
            "Bronze\t Bruiser :  2\n",
            "Bronze\t Dragon :  1\n",
            "Bronze\t Guild :  1\n",
            "Silver\t Lagoon :  6\n",
            "Silver\t Mage :  5\n"
          ]
        }
      ]
    },
    {
      "cell_type": "code",
      "source": [
        "augments = js1.get('augments')\n",
        "result_list = []\n",
        "for i in augments:\n",
        "    temp = i.split('_')[-1]\n",
        "    result_list.append(temp)\n",
        "print(result_list)"
      ],
      "metadata": {
        "colab": {
          "base_uri": "https://localhost:8080/"
        },
        "id": "Sk5GAA9FrjD-",
        "outputId": "90a8422a-4ca7-4fea-a448-82afe109c8fd"
      },
      "execution_count": 259,
      "outputs": [
        {
          "output_type": "stream",
          "name": "stdout",
          "text": [
            "['JeweledLotus', 'PandorasBench', 'LagoonEmblem']\n"
          ]
        }
      ]
    },
    {
      "cell_type": "code",
      "source": [
        "pd.Series(result_list)"
      ],
      "metadata": {
        "colab": {
          "base_uri": "https://localhost:8080/"
        },
        "id": "3lg1Z4bGxzlq",
        "outputId": "11528091-6869-4591-fd1e-204e04ee7299"
      },
      "execution_count": 260,
      "outputs": [
        {
          "output_type": "execute_result",
          "data": {
            "text/plain": [
              "0     JeweledLotus\n",
              "1    PandorasBench\n",
              "2     LagoonEmblem\n",
              "dtype: object"
            ]
          },
          "metadata": {},
          "execution_count": 260
        }
      ]
    },
    {
      "cell_type": "code",
      "source": [
        "rounds = ['augment1', 'augment2', 'augment3']\n",
        "ags = pd.Series(result_list, index=rounds)\n",
        "ags_df = pd.DataFrame(ags).T"
      ],
      "metadata": {
        "id": "AZJj7nQFuz8T"
      },
      "execution_count": 261,
      "outputs": []
    },
    {
      "cell_type": "code",
      "source": [
        "# 선택한 증강체 표기\n",
        "ags_df"
      ],
      "metadata": {
        "colab": {
          "base_uri": "https://localhost:8080/",
          "height": 81
        },
        "id": "b_OglP--zxMV",
        "outputId": "e7c37e44-f48e-4134-daca-839586c14924"
      },
      "execution_count": 262,
      "outputs": [
        {
          "output_type": "execute_result",
          "data": {
            "text/plain": [
              "       augment1       augment2      augment3\n",
              "0  JeweledLotus  PandorasBench  LagoonEmblem"
            ],
            "text/html": [
              "\n",
              "  <div id=\"df-e9c9daec-50e4-4eb6-adea-7532436bcd15\">\n",
              "    <div class=\"colab-df-container\">\n",
              "      <div>\n",
              "<style scoped>\n",
              "    .dataframe tbody tr th:only-of-type {\n",
              "        vertical-align: middle;\n",
              "    }\n",
              "\n",
              "    .dataframe tbody tr th {\n",
              "        vertical-align: top;\n",
              "    }\n",
              "\n",
              "    .dataframe thead th {\n",
              "        text-align: right;\n",
              "    }\n",
              "</style>\n",
              "<table border=\"1\" class=\"dataframe\">\n",
              "  <thead>\n",
              "    <tr style=\"text-align: right;\">\n",
              "      <th></th>\n",
              "      <th>augment1</th>\n",
              "      <th>augment2</th>\n",
              "      <th>augment3</th>\n",
              "    </tr>\n",
              "  </thead>\n",
              "  <tbody>\n",
              "    <tr>\n",
              "      <th>0</th>\n",
              "      <td>JeweledLotus</td>\n",
              "      <td>PandorasBench</td>\n",
              "      <td>LagoonEmblem</td>\n",
              "    </tr>\n",
              "  </tbody>\n",
              "</table>\n",
              "</div>\n",
              "      <button class=\"colab-df-convert\" onclick=\"convertToInteractive('df-e9c9daec-50e4-4eb6-adea-7532436bcd15')\"\n",
              "              title=\"Convert this dataframe to an interactive table.\"\n",
              "              style=\"display:none;\">\n",
              "        \n",
              "  <svg xmlns=\"http://www.w3.org/2000/svg\" height=\"24px\"viewBox=\"0 0 24 24\"\n",
              "       width=\"24px\">\n",
              "    <path d=\"M0 0h24v24H0V0z\" fill=\"none\"/>\n",
              "    <path d=\"M18.56 5.44l.94 2.06.94-2.06 2.06-.94-2.06-.94-.94-2.06-.94 2.06-2.06.94zm-11 1L8.5 8.5l.94-2.06 2.06-.94-2.06-.94L8.5 2.5l-.94 2.06-2.06.94zm10 10l.94 2.06.94-2.06 2.06-.94-2.06-.94-.94-2.06-.94 2.06-2.06.94z\"/><path d=\"M17.41 7.96l-1.37-1.37c-.4-.4-.92-.59-1.43-.59-.52 0-1.04.2-1.43.59L10.3 9.45l-7.72 7.72c-.78.78-.78 2.05 0 2.83L4 21.41c.39.39.9.59 1.41.59.51 0 1.02-.2 1.41-.59l7.78-7.78 2.81-2.81c.8-.78.8-2.07 0-2.86zM5.41 20L4 18.59l7.72-7.72 1.47 1.35L5.41 20z\"/>\n",
              "  </svg>\n",
              "      </button>\n",
              "      \n",
              "  <style>\n",
              "    .colab-df-container {\n",
              "      display:flex;\n",
              "      flex-wrap:wrap;\n",
              "      gap: 12px;\n",
              "    }\n",
              "\n",
              "    .colab-df-convert {\n",
              "      background-color: #E8F0FE;\n",
              "      border: none;\n",
              "      border-radius: 50%;\n",
              "      cursor: pointer;\n",
              "      display: none;\n",
              "      fill: #1967D2;\n",
              "      height: 32px;\n",
              "      padding: 0 0 0 0;\n",
              "      width: 32px;\n",
              "    }\n",
              "\n",
              "    .colab-df-convert:hover {\n",
              "      background-color: #E2EBFA;\n",
              "      box-shadow: 0px 1px 2px rgba(60, 64, 67, 0.3), 0px 1px 3px 1px rgba(60, 64, 67, 0.15);\n",
              "      fill: #174EA6;\n",
              "    }\n",
              "\n",
              "    [theme=dark] .colab-df-convert {\n",
              "      background-color: #3B4455;\n",
              "      fill: #D2E3FC;\n",
              "    }\n",
              "\n",
              "    [theme=dark] .colab-df-convert:hover {\n",
              "      background-color: #434B5C;\n",
              "      box-shadow: 0px 1px 3px 1px rgba(0, 0, 0, 0.15);\n",
              "      filter: drop-shadow(0px 1px 2px rgba(0, 0, 0, 0.3));\n",
              "      fill: #FFFFFF;\n",
              "    }\n",
              "  </style>\n",
              "\n",
              "      <script>\n",
              "        const buttonEl =\n",
              "          document.querySelector('#df-e9c9daec-50e4-4eb6-adea-7532436bcd15 button.colab-df-convert');\n",
              "        buttonEl.style.display =\n",
              "          google.colab.kernel.accessAllowed ? 'block' : 'none';\n",
              "\n",
              "        async function convertToInteractive(key) {\n",
              "          const element = document.querySelector('#df-e9c9daec-50e4-4eb6-adea-7532436bcd15');\n",
              "          const dataTable =\n",
              "            await google.colab.kernel.invokeFunction('convertToInteractive',\n",
              "                                                     [key], {});\n",
              "          if (!dataTable) return;\n",
              "\n",
              "          const docLinkHtml = 'Like what you see? Visit the ' +\n",
              "            '<a target=\"_blank\" href=https://colab.research.google.com/notebooks/data_table.ipynb>data table notebook</a>'\n",
              "            + ' to learn more about interactive tables.';\n",
              "          element.innerHTML = '';\n",
              "          dataTable['output_type'] = 'display_data';\n",
              "          await google.colab.output.renderOutput(dataTable, element);\n",
              "          const docLink = document.createElement('div');\n",
              "          docLink.innerHTML = docLinkHtml;\n",
              "          element.appendChild(docLink);\n",
              "        }\n",
              "      </script>\n",
              "    </div>\n",
              "  </div>\n",
              "  "
            ]
          },
          "metadata": {},
          "execution_count": 262
        }
      ]
    },
    {
      "cell_type": "code",
      "source": [
        "df = df.merge(ags_df, left_index=True, right_index=True)"
      ],
      "metadata": {
        "id": "v9qDRqK0z8Ue"
      },
      "execution_count": 264,
      "outputs": []
    },
    {
      "cell_type": "code",
      "source": [
        "df.drop(columns=['augments', 'players_eliminated', 'time_eliminated', 'last_round'], inplace=True)"
      ],
      "metadata": {
        "id": "Y5HveRb-0pA-"
      },
      "execution_count": 266,
      "outputs": []
    },
    {
      "cell_type": "code",
      "source": [
        "df"
      ],
      "metadata": {
        "colab": {
          "base_uri": "https://localhost:8080/",
          "height": 197
        },
        "id": "-WNCWPJx2fJO",
        "outputId": "9fa3c2ac-53ad-4558-8f82-793da0185723"
      },
      "execution_count": 267,
      "outputs": [
        {
          "output_type": "execute_result",
          "data": {
            "text/plain": [
              "  gold_left level placement total_damage_to_players  \\\n",
              "0        50     8         2                     183   \n",
              "\n",
              "                                              traits  \\\n",
              "0  [{'name': 'Set7_Assassin', 'num_units': 1, 'st...   \n",
              "\n",
              "                                               units      augment1  \\\n",
              "0  [{'character_id': 'TFT7_Vladimir', 'itemNames'...  JeweledLotus   \n",
              "\n",
              "        augment2      augment3  \n",
              "0  PandorasBench  LagoonEmblem  "
            ],
            "text/html": [
              "\n",
              "  <div id=\"df-b1cd2c64-fc19-4340-9d88-77f94ff81689\">\n",
              "    <div class=\"colab-df-container\">\n",
              "      <div>\n",
              "<style scoped>\n",
              "    .dataframe tbody tr th:only-of-type {\n",
              "        vertical-align: middle;\n",
              "    }\n",
              "\n",
              "    .dataframe tbody tr th {\n",
              "        vertical-align: top;\n",
              "    }\n",
              "\n",
              "    .dataframe thead th {\n",
              "        text-align: right;\n",
              "    }\n",
              "</style>\n",
              "<table border=\"1\" class=\"dataframe\">\n",
              "  <thead>\n",
              "    <tr style=\"text-align: right;\">\n",
              "      <th></th>\n",
              "      <th>gold_left</th>\n",
              "      <th>level</th>\n",
              "      <th>placement</th>\n",
              "      <th>total_damage_to_players</th>\n",
              "      <th>traits</th>\n",
              "      <th>units</th>\n",
              "      <th>augment1</th>\n",
              "      <th>augment2</th>\n",
              "      <th>augment3</th>\n",
              "    </tr>\n",
              "  </thead>\n",
              "  <tbody>\n",
              "    <tr>\n",
              "      <th>0</th>\n",
              "      <td>50</td>\n",
              "      <td>8</td>\n",
              "      <td>2</td>\n",
              "      <td>183</td>\n",
              "      <td>[{'name': 'Set7_Assassin', 'num_units': 1, 'st...</td>\n",
              "      <td>[{'character_id': 'TFT7_Vladimir', 'itemNames'...</td>\n",
              "      <td>JeweledLotus</td>\n",
              "      <td>PandorasBench</td>\n",
              "      <td>LagoonEmblem</td>\n",
              "    </tr>\n",
              "  </tbody>\n",
              "</table>\n",
              "</div>\n",
              "      <button class=\"colab-df-convert\" onclick=\"convertToInteractive('df-b1cd2c64-fc19-4340-9d88-77f94ff81689')\"\n",
              "              title=\"Convert this dataframe to an interactive table.\"\n",
              "              style=\"display:none;\">\n",
              "        \n",
              "  <svg xmlns=\"http://www.w3.org/2000/svg\" height=\"24px\"viewBox=\"0 0 24 24\"\n",
              "       width=\"24px\">\n",
              "    <path d=\"M0 0h24v24H0V0z\" fill=\"none\"/>\n",
              "    <path d=\"M18.56 5.44l.94 2.06.94-2.06 2.06-.94-2.06-.94-.94-2.06-.94 2.06-2.06.94zm-11 1L8.5 8.5l.94-2.06 2.06-.94-2.06-.94L8.5 2.5l-.94 2.06-2.06.94zm10 10l.94 2.06.94-2.06 2.06-.94-2.06-.94-.94-2.06-.94 2.06-2.06.94z\"/><path d=\"M17.41 7.96l-1.37-1.37c-.4-.4-.92-.59-1.43-.59-.52 0-1.04.2-1.43.59L10.3 9.45l-7.72 7.72c-.78.78-.78 2.05 0 2.83L4 21.41c.39.39.9.59 1.41.59.51 0 1.02-.2 1.41-.59l7.78-7.78 2.81-2.81c.8-.78.8-2.07 0-2.86zM5.41 20L4 18.59l7.72-7.72 1.47 1.35L5.41 20z\"/>\n",
              "  </svg>\n",
              "      </button>\n",
              "      \n",
              "  <style>\n",
              "    .colab-df-container {\n",
              "      display:flex;\n",
              "      flex-wrap:wrap;\n",
              "      gap: 12px;\n",
              "    }\n",
              "\n",
              "    .colab-df-convert {\n",
              "      background-color: #E8F0FE;\n",
              "      border: none;\n",
              "      border-radius: 50%;\n",
              "      cursor: pointer;\n",
              "      display: none;\n",
              "      fill: #1967D2;\n",
              "      height: 32px;\n",
              "      padding: 0 0 0 0;\n",
              "      width: 32px;\n",
              "    }\n",
              "\n",
              "    .colab-df-convert:hover {\n",
              "      background-color: #E2EBFA;\n",
              "      box-shadow: 0px 1px 2px rgba(60, 64, 67, 0.3), 0px 1px 3px 1px rgba(60, 64, 67, 0.15);\n",
              "      fill: #174EA6;\n",
              "    }\n",
              "\n",
              "    [theme=dark] .colab-df-convert {\n",
              "      background-color: #3B4455;\n",
              "      fill: #D2E3FC;\n",
              "    }\n",
              "\n",
              "    [theme=dark] .colab-df-convert:hover {\n",
              "      background-color: #434B5C;\n",
              "      box-shadow: 0px 1px 3px 1px rgba(0, 0, 0, 0.15);\n",
              "      filter: drop-shadow(0px 1px 2px rgba(0, 0, 0, 0.3));\n",
              "      fill: #FFFFFF;\n",
              "    }\n",
              "  </style>\n",
              "\n",
              "      <script>\n",
              "        const buttonEl =\n",
              "          document.querySelector('#df-b1cd2c64-fc19-4340-9d88-77f94ff81689 button.colab-df-convert');\n",
              "        buttonEl.style.display =\n",
              "          google.colab.kernel.accessAllowed ? 'block' : 'none';\n",
              "\n",
              "        async function convertToInteractive(key) {\n",
              "          const element = document.querySelector('#df-b1cd2c64-fc19-4340-9d88-77f94ff81689');\n",
              "          const dataTable =\n",
              "            await google.colab.kernel.invokeFunction('convertToInteractive',\n",
              "                                                     [key], {});\n",
              "          if (!dataTable) return;\n",
              "\n",
              "          const docLinkHtml = 'Like what you see? Visit the ' +\n",
              "            '<a target=\"_blank\" href=https://colab.research.google.com/notebooks/data_table.ipynb>data table notebook</a>'\n",
              "            + ' to learn more about interactive tables.';\n",
              "          element.innerHTML = '';\n",
              "          dataTable['output_type'] = 'display_data';\n",
              "          await google.colab.output.renderOutput(dataTable, element);\n",
              "          const docLink = document.createElement('div');\n",
              "          docLink.innerHTML = docLinkHtml;\n",
              "          element.appendChild(docLink);\n",
              "        }\n",
              "      </script>\n",
              "    </div>\n",
              "  </div>\n",
              "  "
            ]
          },
          "metadata": {},
          "execution_count": 267
        }
      ]
    },
    {
      "cell_type": "code",
      "source": [
        "df = df[['augment1', 'augment2', 'augment3', 'level','gold_left', 'total_damage_to_players', 'traits', 'units', 'placement']]"
      ],
      "metadata": {
        "id": "r_kbyYe608VA"
      },
      "execution_count": 268,
      "outputs": []
    },
    {
      "cell_type": "code",
      "source": [
        "df.rename(columns={\n",
        "                   'total_damage_to_players': 'damage_to_players'}, inplace=True)"
      ],
      "metadata": {
        "id": "oM1mM_ji04VM"
      },
      "execution_count": 269,
      "outputs": []
    },
    {
      "cell_type": "code",
      "source": [
        "df"
      ],
      "metadata": {
        "colab": {
          "base_uri": "https://localhost:8080/",
          "height": 197
        },
        "id": "mKPZXwVe1_U6",
        "outputId": "5d1ac042-ce99-4cae-f124-f0311ee93324"
      },
      "execution_count": 270,
      "outputs": [
        {
          "output_type": "execute_result",
          "data": {
            "text/plain": [
              "       augment1       augment2      augment3 level gold_left  \\\n",
              "0  JeweledLotus  PandorasBench  LagoonEmblem     8        50   \n",
              "\n",
              "  damage_to_players                                             traits  \\\n",
              "0               183  [{'name': 'Set7_Assassin', 'num_units': 1, 'st...   \n",
              "\n",
              "                                               units placement  \n",
              "0  [{'character_id': 'TFT7_Vladimir', 'itemNames'...         2  "
            ],
            "text/html": [
              "\n",
              "  <div id=\"df-7d373ed9-5660-4507-8895-2103955338ca\">\n",
              "    <div class=\"colab-df-container\">\n",
              "      <div>\n",
              "<style scoped>\n",
              "    .dataframe tbody tr th:only-of-type {\n",
              "        vertical-align: middle;\n",
              "    }\n",
              "\n",
              "    .dataframe tbody tr th {\n",
              "        vertical-align: top;\n",
              "    }\n",
              "\n",
              "    .dataframe thead th {\n",
              "        text-align: right;\n",
              "    }\n",
              "</style>\n",
              "<table border=\"1\" class=\"dataframe\">\n",
              "  <thead>\n",
              "    <tr style=\"text-align: right;\">\n",
              "      <th></th>\n",
              "      <th>augment1</th>\n",
              "      <th>augment2</th>\n",
              "      <th>augment3</th>\n",
              "      <th>level</th>\n",
              "      <th>gold_left</th>\n",
              "      <th>damage_to_players</th>\n",
              "      <th>traits</th>\n",
              "      <th>units</th>\n",
              "      <th>placement</th>\n",
              "    </tr>\n",
              "  </thead>\n",
              "  <tbody>\n",
              "    <tr>\n",
              "      <th>0</th>\n",
              "      <td>JeweledLotus</td>\n",
              "      <td>PandorasBench</td>\n",
              "      <td>LagoonEmblem</td>\n",
              "      <td>8</td>\n",
              "      <td>50</td>\n",
              "      <td>183</td>\n",
              "      <td>[{'name': 'Set7_Assassin', 'num_units': 1, 'st...</td>\n",
              "      <td>[{'character_id': 'TFT7_Vladimir', 'itemNames'...</td>\n",
              "      <td>2</td>\n",
              "    </tr>\n",
              "  </tbody>\n",
              "</table>\n",
              "</div>\n",
              "      <button class=\"colab-df-convert\" onclick=\"convertToInteractive('df-7d373ed9-5660-4507-8895-2103955338ca')\"\n",
              "              title=\"Convert this dataframe to an interactive table.\"\n",
              "              style=\"display:none;\">\n",
              "        \n",
              "  <svg xmlns=\"http://www.w3.org/2000/svg\" height=\"24px\"viewBox=\"0 0 24 24\"\n",
              "       width=\"24px\">\n",
              "    <path d=\"M0 0h24v24H0V0z\" fill=\"none\"/>\n",
              "    <path d=\"M18.56 5.44l.94 2.06.94-2.06 2.06-.94-2.06-.94-.94-2.06-.94 2.06-2.06.94zm-11 1L8.5 8.5l.94-2.06 2.06-.94-2.06-.94L8.5 2.5l-.94 2.06-2.06.94zm10 10l.94 2.06.94-2.06 2.06-.94-2.06-.94-.94-2.06-.94 2.06-2.06.94z\"/><path d=\"M17.41 7.96l-1.37-1.37c-.4-.4-.92-.59-1.43-.59-.52 0-1.04.2-1.43.59L10.3 9.45l-7.72 7.72c-.78.78-.78 2.05 0 2.83L4 21.41c.39.39.9.59 1.41.59.51 0 1.02-.2 1.41-.59l7.78-7.78 2.81-2.81c.8-.78.8-2.07 0-2.86zM5.41 20L4 18.59l7.72-7.72 1.47 1.35L5.41 20z\"/>\n",
              "  </svg>\n",
              "      </button>\n",
              "      \n",
              "  <style>\n",
              "    .colab-df-container {\n",
              "      display:flex;\n",
              "      flex-wrap:wrap;\n",
              "      gap: 12px;\n",
              "    }\n",
              "\n",
              "    .colab-df-convert {\n",
              "      background-color: #E8F0FE;\n",
              "      border: none;\n",
              "      border-radius: 50%;\n",
              "      cursor: pointer;\n",
              "      display: none;\n",
              "      fill: #1967D2;\n",
              "      height: 32px;\n",
              "      padding: 0 0 0 0;\n",
              "      width: 32px;\n",
              "    }\n",
              "\n",
              "    .colab-df-convert:hover {\n",
              "      background-color: #E2EBFA;\n",
              "      box-shadow: 0px 1px 2px rgba(60, 64, 67, 0.3), 0px 1px 3px 1px rgba(60, 64, 67, 0.15);\n",
              "      fill: #174EA6;\n",
              "    }\n",
              "\n",
              "    [theme=dark] .colab-df-convert {\n",
              "      background-color: #3B4455;\n",
              "      fill: #D2E3FC;\n",
              "    }\n",
              "\n",
              "    [theme=dark] .colab-df-convert:hover {\n",
              "      background-color: #434B5C;\n",
              "      box-shadow: 0px 1px 3px 1px rgba(0, 0, 0, 0.15);\n",
              "      filter: drop-shadow(0px 1px 2px rgba(0, 0, 0, 0.3));\n",
              "      fill: #FFFFFF;\n",
              "    }\n",
              "  </style>\n",
              "\n",
              "      <script>\n",
              "        const buttonEl =\n",
              "          document.querySelector('#df-7d373ed9-5660-4507-8895-2103955338ca button.colab-df-convert');\n",
              "        buttonEl.style.display =\n",
              "          google.colab.kernel.accessAllowed ? 'block' : 'none';\n",
              "\n",
              "        async function convertToInteractive(key) {\n",
              "          const element = document.querySelector('#df-7d373ed9-5660-4507-8895-2103955338ca');\n",
              "          const dataTable =\n",
              "            await google.colab.kernel.invokeFunction('convertToInteractive',\n",
              "                                                     [key], {});\n",
              "          if (!dataTable) return;\n",
              "\n",
              "          const docLinkHtml = 'Like what you see? Visit the ' +\n",
              "            '<a target=\"_blank\" href=https://colab.research.google.com/notebooks/data_table.ipynb>data table notebook</a>'\n",
              "            + ' to learn more about interactive tables.';\n",
              "          element.innerHTML = '';\n",
              "          dataTable['output_type'] = 'display_data';\n",
              "          await google.colab.output.renderOutput(dataTable, element);\n",
              "          const docLink = document.createElement('div');\n",
              "          docLink.innerHTML = docLinkHtml;\n",
              "          element.appendChild(docLink);\n",
              "        }\n",
              "      </script>\n",
              "    </div>\n",
              "  </div>\n",
              "  "
            ]
          },
          "metadata": {},
          "execution_count": 270
        }
      ]
    }
  ]
}