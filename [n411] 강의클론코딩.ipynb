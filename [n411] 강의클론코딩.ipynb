{
  "nbformat": 4,
  "nbformat_minor": 0,
  "metadata": {
    "colab": {
      "provenance": [],
      "authorship_tag": "ABX9TyMWRYA4KGOwgGxoc/rNRFf/",
      "include_colab_link": true
    },
    "kernelspec": {
      "name": "python3",
      "display_name": "Python 3"
    },
    "language_info": {
      "name": "python"
    }
  },
  "cells": [
    {
      "cell_type": "markdown",
      "metadata": {
        "id": "view-in-github",
        "colab_type": "text"
      },
      "source": [
        "<a href=\"https://colab.research.google.com/github/ysooch0819/AI16-Projects/blob/main/%5Bn411%5D%20%EA%B0%95%EC%9D%98%ED%81%B4%EB%A1%A0%EC%BD%94%EB%94%A9.ipynb\" target=\"_parent\"><img src=\"https://colab.research.google.com/assets/colab-badge.svg\" alt=\"Open In Colab\"/></a>"
      ]
    },
    {
      "cell_type": "code",
      "execution_count": 1,
      "metadata": {
        "id": "MVZB4u_kR1b3"
      },
      "outputs": [],
      "source": [
        "# 신경망을 이루는 가장 기본 단위: 퍼셉트론Perceptron\n",
        "# 다수의 신호를 입력으로 받아 하나의 신호를 출력하는 구조\n",
        "# 1. 가중치-편향 연산 부분, 2. 활성화 함수 부분 으로 나눈다."
      ]
    },
    {
      "cell_type": "code",
      "source": [
        "import numpy as np\n",
        "\n",
        "input = np.array([1, 2, 3]) # 입력 신호(x0, x1, x2, ...)\n",
        "weight = np.array([0.2, 0.3, -0.1]) # 가중치(w0, w1, w2, ...)\n",
        "\n",
        "np.dot(input, weight)"
      ],
      "metadata": {
        "colab": {
          "base_uri": "https://localhost:8080/"
        },
        "id": "rKoIEpNxSDyJ",
        "outputId": "8a4e8e1b-d4a6-485f-def7-af908461dda5"
      },
      "execution_count": 2,
      "outputs": [
        {
          "output_type": "execute_result",
          "data": {
            "text/plain": [
              "0.5"
            ]
          },
          "metadata": {},
          "execution_count": 2
        }
      ]
    },
    {
      "cell_type": "code",
      "source": [
        "import pandas as pd\n",
        "import numpy as np\n",
        "import matplotlib.pyplot as plt\n",
        "import tensorflow as tf"
      ],
      "metadata": {
        "id": "qcYj6PESUDhb"
      },
      "execution_count": 3,
      "outputs": []
    },
    {
      "cell_type": "code",
      "source": [
        "np.random.seed(42)\n",
        "tf.random.set_seed(42)"
      ],
      "metadata": {
        "id": "eMx_7lTXUKh2"
      },
      "execution_count": 4,
      "outputs": []
    },
    {
      "cell_type": "code",
      "source": [
        "df = pd.read_csv('https://archive.ics.uci.edu/ml/machine-learning-databases/iris/iris.data', header=None)"
      ],
      "metadata": {
        "id": "cZskZ--gUOcO"
      },
      "execution_count": 5,
      "outputs": []
    },
    {
      "cell_type": "code",
      "source": [
        "df.head()"
      ],
      "metadata": {
        "colab": {
          "base_uri": "https://localhost:8080/",
          "height": 206
        },
        "id": "4zuUvBV3UPvf",
        "outputId": "2224485b-0523-4758-a00b-d2c4a6754ff3"
      },
      "execution_count": 6,
      "outputs": [
        {
          "output_type": "execute_result",
          "data": {
            "text/plain": [
              "     0    1    2    3            4\n",
              "0  5.1  3.5  1.4  0.2  Iris-setosa\n",
              "1  4.9  3.0  1.4  0.2  Iris-setosa\n",
              "2  4.7  3.2  1.3  0.2  Iris-setosa\n",
              "3  4.6  3.1  1.5  0.2  Iris-setosa\n",
              "4  5.0  3.6  1.4  0.2  Iris-setosa"
            ],
            "text/html": [
              "\n",
              "  <div id=\"df-b316f59b-5fa5-41ac-bcbc-3c7059bc6f87\">\n",
              "    <div class=\"colab-df-container\">\n",
              "      <div>\n",
              "<style scoped>\n",
              "    .dataframe tbody tr th:only-of-type {\n",
              "        vertical-align: middle;\n",
              "    }\n",
              "\n",
              "    .dataframe tbody tr th {\n",
              "        vertical-align: top;\n",
              "    }\n",
              "\n",
              "    .dataframe thead th {\n",
              "        text-align: right;\n",
              "    }\n",
              "</style>\n",
              "<table border=\"1\" class=\"dataframe\">\n",
              "  <thead>\n",
              "    <tr style=\"text-align: right;\">\n",
              "      <th></th>\n",
              "      <th>0</th>\n",
              "      <th>1</th>\n",
              "      <th>2</th>\n",
              "      <th>3</th>\n",
              "      <th>4</th>\n",
              "    </tr>\n",
              "  </thead>\n",
              "  <tbody>\n",
              "    <tr>\n",
              "      <th>0</th>\n",
              "      <td>5.1</td>\n",
              "      <td>3.5</td>\n",
              "      <td>1.4</td>\n",
              "      <td>0.2</td>\n",
              "      <td>Iris-setosa</td>\n",
              "    </tr>\n",
              "    <tr>\n",
              "      <th>1</th>\n",
              "      <td>4.9</td>\n",
              "      <td>3.0</td>\n",
              "      <td>1.4</td>\n",
              "      <td>0.2</td>\n",
              "      <td>Iris-setosa</td>\n",
              "    </tr>\n",
              "    <tr>\n",
              "      <th>2</th>\n",
              "      <td>4.7</td>\n",
              "      <td>3.2</td>\n",
              "      <td>1.3</td>\n",
              "      <td>0.2</td>\n",
              "      <td>Iris-setosa</td>\n",
              "    </tr>\n",
              "    <tr>\n",
              "      <th>3</th>\n",
              "      <td>4.6</td>\n",
              "      <td>3.1</td>\n",
              "      <td>1.5</td>\n",
              "      <td>0.2</td>\n",
              "      <td>Iris-setosa</td>\n",
              "    </tr>\n",
              "    <tr>\n",
              "      <th>4</th>\n",
              "      <td>5.0</td>\n",
              "      <td>3.6</td>\n",
              "      <td>1.4</td>\n",
              "      <td>0.2</td>\n",
              "      <td>Iris-setosa</td>\n",
              "    </tr>\n",
              "  </tbody>\n",
              "</table>\n",
              "</div>\n",
              "      <button class=\"colab-df-convert\" onclick=\"convertToInteractive('df-b316f59b-5fa5-41ac-bcbc-3c7059bc6f87')\"\n",
              "              title=\"Convert this dataframe to an interactive table.\"\n",
              "              style=\"display:none;\">\n",
              "        \n",
              "  <svg xmlns=\"http://www.w3.org/2000/svg\" height=\"24px\"viewBox=\"0 0 24 24\"\n",
              "       width=\"24px\">\n",
              "    <path d=\"M0 0h24v24H0V0z\" fill=\"none\"/>\n",
              "    <path d=\"M18.56 5.44l.94 2.06.94-2.06 2.06-.94-2.06-.94-.94-2.06-.94 2.06-2.06.94zm-11 1L8.5 8.5l.94-2.06 2.06-.94-2.06-.94L8.5 2.5l-.94 2.06-2.06.94zm10 10l.94 2.06.94-2.06 2.06-.94-2.06-.94-.94-2.06-.94 2.06-2.06.94z\"/><path d=\"M17.41 7.96l-1.37-1.37c-.4-.4-.92-.59-1.43-.59-.52 0-1.04.2-1.43.59L10.3 9.45l-7.72 7.72c-.78.78-.78 2.05 0 2.83L4 21.41c.39.39.9.59 1.41.59.51 0 1.02-.2 1.41-.59l7.78-7.78 2.81-2.81c.8-.78.8-2.07 0-2.86zM5.41 20L4 18.59l7.72-7.72 1.47 1.35L5.41 20z\"/>\n",
              "  </svg>\n",
              "      </button>\n",
              "      \n",
              "  <style>\n",
              "    .colab-df-container {\n",
              "      display:flex;\n",
              "      flex-wrap:wrap;\n",
              "      gap: 12px;\n",
              "    }\n",
              "\n",
              "    .colab-df-convert {\n",
              "      background-color: #E8F0FE;\n",
              "      border: none;\n",
              "      border-radius: 50%;\n",
              "      cursor: pointer;\n",
              "      display: none;\n",
              "      fill: #1967D2;\n",
              "      height: 32px;\n",
              "      padding: 0 0 0 0;\n",
              "      width: 32px;\n",
              "    }\n",
              "\n",
              "    .colab-df-convert:hover {\n",
              "      background-color: #E2EBFA;\n",
              "      box-shadow: 0px 1px 2px rgba(60, 64, 67, 0.3), 0px 1px 3px 1px rgba(60, 64, 67, 0.15);\n",
              "      fill: #174EA6;\n",
              "    }\n",
              "\n",
              "    [theme=dark] .colab-df-convert {\n",
              "      background-color: #3B4455;\n",
              "      fill: #D2E3FC;\n",
              "    }\n",
              "\n",
              "    [theme=dark] .colab-df-convert:hover {\n",
              "      background-color: #434B5C;\n",
              "      box-shadow: 0px 1px 3px 1px rgba(0, 0, 0, 0.15);\n",
              "      filter: drop-shadow(0px 1px 2px rgba(0, 0, 0, 0.3));\n",
              "      fill: #FFFFFF;\n",
              "    }\n",
              "  </style>\n",
              "\n",
              "      <script>\n",
              "        const buttonEl =\n",
              "          document.querySelector('#df-b316f59b-5fa5-41ac-bcbc-3c7059bc6f87 button.colab-df-convert');\n",
              "        buttonEl.style.display =\n",
              "          google.colab.kernel.accessAllowed ? 'block' : 'none';\n",
              "\n",
              "        async function convertToInteractive(key) {\n",
              "          const element = document.querySelector('#df-b316f59b-5fa5-41ac-bcbc-3c7059bc6f87');\n",
              "          const dataTable =\n",
              "            await google.colab.kernel.invokeFunction('convertToInteractive',\n",
              "                                                     [key], {});\n",
              "          if (!dataTable) return;\n",
              "\n",
              "          const docLinkHtml = 'Like what you see? Visit the ' +\n",
              "            '<a target=\"_blank\" href=https://colab.research.google.com/notebooks/data_table.ipynb>data table notebook</a>'\n",
              "            + ' to learn more about interactive tables.';\n",
              "          element.innerHTML = '';\n",
              "          dataTable['output_type'] = 'display_data';\n",
              "          await google.colab.output.renderOutput(dataTable, element);\n",
              "          const docLink = document.createElement('div');\n",
              "          docLink.innerHTML = docLinkHtml;\n",
              "          element.appendChild(docLink);\n",
              "        }\n",
              "      </script>\n",
              "    </div>\n",
              "  </div>\n",
              "  "
            ]
          },
          "metadata": {},
          "execution_count": 6
        }
      ]
    },
    {
      "cell_type": "code",
      "source": [
        "df.shape"
      ],
      "metadata": {
        "colab": {
          "base_uri": "https://localhost:8080/"
        },
        "id": "yz8ojUOZUVN7",
        "outputId": "5d15f1a1-c321-417f-8d09-c362b36fc8f1"
      },
      "execution_count": 7,
      "outputs": [
        {
          "output_type": "execute_result",
          "data": {
            "text/plain": [
              "(150, 5)"
            ]
          },
          "metadata": {},
          "execution_count": 7
        }
      ]
    },
    {
      "cell_type": "code",
      "source": [
        "label = df.iloc[0:100, 4].values # 0~99 까지 100개 행을 살펴볼 예정\n",
        "label"
      ],
      "metadata": {
        "colab": {
          "base_uri": "https://localhost:8080/"
        },
        "id": "_09t1wQ0UYOg",
        "outputId": "c752889e-6d30-4bd4-b7ba-f8e9305758ed"
      },
      "execution_count": 8,
      "outputs": [
        {
          "output_type": "execute_result",
          "data": {
            "text/plain": [
              "array(['Iris-setosa', 'Iris-setosa', 'Iris-setosa', 'Iris-setosa',\n",
              "       'Iris-setosa', 'Iris-setosa', 'Iris-setosa', 'Iris-setosa',\n",
              "       'Iris-setosa', 'Iris-setosa', 'Iris-setosa', 'Iris-setosa',\n",
              "       'Iris-setosa', 'Iris-setosa', 'Iris-setosa', 'Iris-setosa',\n",
              "       'Iris-setosa', 'Iris-setosa', 'Iris-setosa', 'Iris-setosa',\n",
              "       'Iris-setosa', 'Iris-setosa', 'Iris-setosa', 'Iris-setosa',\n",
              "       'Iris-setosa', 'Iris-setosa', 'Iris-setosa', 'Iris-setosa',\n",
              "       'Iris-setosa', 'Iris-setosa', 'Iris-setosa', 'Iris-setosa',\n",
              "       'Iris-setosa', 'Iris-setosa', 'Iris-setosa', 'Iris-setosa',\n",
              "       'Iris-setosa', 'Iris-setosa', 'Iris-setosa', 'Iris-setosa',\n",
              "       'Iris-setosa', 'Iris-setosa', 'Iris-setosa', 'Iris-setosa',\n",
              "       'Iris-setosa', 'Iris-setosa', 'Iris-setosa', 'Iris-setosa',\n",
              "       'Iris-setosa', 'Iris-setosa', 'Iris-versicolor', 'Iris-versicolor',\n",
              "       'Iris-versicolor', 'Iris-versicolor', 'Iris-versicolor',\n",
              "       'Iris-versicolor', 'Iris-versicolor', 'Iris-versicolor',\n",
              "       'Iris-versicolor', 'Iris-versicolor', 'Iris-versicolor',\n",
              "       'Iris-versicolor', 'Iris-versicolor', 'Iris-versicolor',\n",
              "       'Iris-versicolor', 'Iris-versicolor', 'Iris-versicolor',\n",
              "       'Iris-versicolor', 'Iris-versicolor', 'Iris-versicolor',\n",
              "       'Iris-versicolor', 'Iris-versicolor', 'Iris-versicolor',\n",
              "       'Iris-versicolor', 'Iris-versicolor', 'Iris-versicolor',\n",
              "       'Iris-versicolor', 'Iris-versicolor', 'Iris-versicolor',\n",
              "       'Iris-versicolor', 'Iris-versicolor', 'Iris-versicolor',\n",
              "       'Iris-versicolor', 'Iris-versicolor', 'Iris-versicolor',\n",
              "       'Iris-versicolor', 'Iris-versicolor', 'Iris-versicolor',\n",
              "       'Iris-versicolor', 'Iris-versicolor', 'Iris-versicolor',\n",
              "       'Iris-versicolor', 'Iris-versicolor', 'Iris-versicolor',\n",
              "       'Iris-versicolor', 'Iris-versicolor', 'Iris-versicolor',\n",
              "       'Iris-versicolor', 'Iris-versicolor', 'Iris-versicolor'],\n",
              "      dtype=object)"
            ]
          },
          "metadata": {},
          "execution_count": 8
        }
      ]
    },
    {
      "cell_type": "code",
      "source": [
        "label = np.where(label == 'Iris-setosa', 0, 1)\n",
        "label"
      ],
      "metadata": {
        "colab": {
          "base_uri": "https://localhost:8080/"
        },
        "id": "Bw6w-pp5UhhY",
        "outputId": "00daf199-272e-4ada-c0a8-d4e17ef02a0d"
      },
      "execution_count": 9,
      "outputs": [
        {
          "output_type": "execute_result",
          "data": {
            "text/plain": [
              "array([0, 0, 0, 0, 0, 0, 0, 0, 0, 0, 0, 0, 0, 0, 0, 0, 0, 0, 0, 0, 0, 0,\n",
              "       0, 0, 0, 0, 0, 0, 0, 0, 0, 0, 0, 0, 0, 0, 0, 0, 0, 0, 0, 0, 0, 0,\n",
              "       0, 0, 0, 0, 0, 0, 1, 1, 1, 1, 1, 1, 1, 1, 1, 1, 1, 1, 1, 1, 1, 1,\n",
              "       1, 1, 1, 1, 1, 1, 1, 1, 1, 1, 1, 1, 1, 1, 1, 1, 1, 1, 1, 1, 1, 1,\n",
              "       1, 1, 1, 1, 1, 1, 1, 1, 1, 1, 1, 1])"
            ]
          },
          "metadata": {},
          "execution_count": 9
        }
      ]
    },
    {
      "cell_type": "code",
      "source": [
        "features = df.iloc[0:100, [0,2]].values # 0~99행까지 Sepal.Length 컬럼과 Petal.Length 컬럼을 사용할것이다 선언\n",
        "features.shape"
      ],
      "metadata": {
        "colab": {
          "base_uri": "https://localhost:8080/"
        },
        "id": "8SNFrEdhUmUw",
        "outputId": "09be8ade-e67a-44d4-cc3b-c1398f32bb24"
      },
      "execution_count": 10,
      "outputs": [
        {
          "output_type": "execute_result",
          "data": {
            "text/plain": [
              "(100, 2)"
            ]
          },
          "metadata": {},
          "execution_count": 10
        }
      ]
    },
    {
      "cell_type": "code",
      "source": [
        "# x축에 Sepal Length, y축에 Petal Length 값으로 그래프를 찍을 예정\n",
        "# 0~49 행은 setosa, 50~99행은 verscolor 로 되어있다\n",
        "plt.scatter(features[:50, 0], features[:50, 1], color='red', marker='o', label='setosa')\n",
        "plt.scatter(features[50:100, 0], features[50:100, 1], color='blue', marker='x', label='versicolor')\n",
        "plt.xlabel('sepal length')\n",
        "plt.ylabel('petal length')\n",
        "plt.legend(loc='upper left')\n",
        "plt.show()"
      ],
      "metadata": {
        "colab": {
          "base_uri": "https://localhost:8080/",
          "height": 279
        },
        "id": "y41GvMuaUtNm",
        "outputId": "bd34e600-fd6c-4001-e426-3e5f60e5ea81"
      },
      "execution_count": 11,
      "outputs": [
        {
          "output_type": "display_data",
          "data": {
            "text/plain": [
              "<Figure size 432x288 with 1 Axes>"
            ],
            "image/png": "[encoded data removed]"
          },
          "metadata": {
            "needs_background": "light"
          }
        }
      ]
    },
    {
      "cell_type": "code",
      "source": [
        "from sklearn.model_selection import train_test_split\n",
        "\n",
        "X_train, X_test, y_train, y_test = train_test_split(features, label, test_size=0.2, random_state=42)"
      ],
      "metadata": {
        "id": "Eyk43EE6WC6r"
      },
      "execution_count": 12,
      "outputs": []
    },
    {
      "cell_type": "code",
      "source": [
        "model = tf.keras.models.Sequential([\n",
        "    tf.keras.layers.Dense(1, activation='sigmoid')\n",
        "])"
      ],
      "metadata": {
        "id": "OpXsGwh4WRUJ"
      },
      "execution_count": 13,
      "outputs": []
    },
    {
      "cell_type": "code",
      "source": [
        "# 위 코드와 동일한 역할을 수행하는 다른 코드\n",
        "# 다른 사람의 코드를 보고 이해할 수 있도록 아래 방식에 익숙해져 보자\n",
        "\n",
        "#### Sequential API\n",
        "# model = tf.keras.models.Sequential()\n",
        "# model.add(tf.keras.layers.Dense(1, activation='sigmoid'))"
      ],
      "metadata": {
        "id": "UrTMNF17WbHg"
      },
      "execution_count": 14,
      "outputs": []
    },
    {
      "cell_type": "code",
      "source": [
        "#### Functional API\n",
        "# input = tf.keras.layers.Input(shape=(2,)) # 입력의 크기 정의 - sepal length, petal length 두개\n",
        "# output = tf.keras.layers.Dense(1, activation='sigmoid')(input) # 이전 층을 다음층 함수의 입력으로 사용, 변수 할당\n",
        "\n",
        "# model = tf.keras.models.Model(inputs=input, outputs=output) # Model 함수에 입력, 출력값으로 정의"
      ],
      "metadata": {
        "id": "3EDdEKCiWowS"
      },
      "execution_count": 15,
      "outputs": []
    },
    {
      "cell_type": "code",
      "source": [
        "model.compile(optimizer='sgd',\n",
        "              loss='binary_crossentropy',\n",
        "              metrics=['accuracy'])"
      ],
      "metadata": {
        "id": "F7hmJ9gYXRus"
      },
      "execution_count": 16,
      "outputs": []
    },
    {
      "cell_type": "code",
      "source": [
        "model.fit(X_train, y_train, epochs=30)"
      ],
      "metadata": {
        "colab": {
          "base_uri": "https://localhost:8080/"
        },
        "id": "TekHFUzEXajn",
        "outputId": "589e1e3c-ca51-4df7-e6dc-5414844efbee"
      },
      "execution_count": 17,
      "outputs": [
        {
          "output_type": "stream",
          "name": "stdout",
          "text": [
            "Epoch 1/30\n",
            "3/3 [==============================] - 1s 6ms/step - loss: 1.0814 - accuracy: 0.5250\n",
            "Epoch 2/30\n",
            "3/3 [==============================] - 0s 8ms/step - loss: 1.0017 - accuracy: 0.5250\n",
            "Epoch 3/30\n",
            "3/3 [==============================] - 0s 6ms/step - loss: 0.9433 - accuracy: 0.5250\n",
            "Epoch 4/30\n",
            "3/3 [==============================] - 0s 5ms/step - loss: 0.8986 - accuracy: 0.5250\n",
            "Epoch 5/30\n",
            "3/3 [==============================] - 0s 5ms/step - loss: 0.8627 - accuracy: 0.5250\n",
            "Epoch 6/30\n",
            "3/3 [==============================] - 0s 6ms/step - loss: 0.8413 - accuracy: 0.5250\n",
            "Epoch 7/30\n",
            "3/3 [==============================] - 0s 5ms/step - loss: 0.8181 - accuracy: 0.5250\n",
            "Epoch 8/30\n",
            "3/3 [==============================] - 0s 7ms/step - loss: 0.8036 - accuracy: 0.5250\n",
            "Epoch 9/30\n",
            "3/3 [==============================] - 0s 4ms/step - loss: 0.7901 - accuracy: 0.5250\n",
            "Epoch 10/30\n",
            "3/3 [==============================] - 0s 7ms/step - loss: 0.7797 - accuracy: 0.5250\n",
            "Epoch 11/30\n",
            "3/3 [==============================] - 0s 5ms/step - loss: 0.7695 - accuracy: 0.5250\n",
            "Epoch 12/30\n",
            "3/3 [==============================] - 0s 9ms/step - loss: 0.7611 - accuracy: 0.5250\n",
            "Epoch 13/30\n",
            "3/3 [==============================] - 0s 8ms/step - loss: 0.7554 - accuracy: 0.5250\n",
            "Epoch 14/30\n",
            "3/3 [==============================] - 0s 4ms/step - loss: 0.7450 - accuracy: 0.5250\n",
            "Epoch 15/30\n",
            "3/3 [==============================] - 0s 6ms/step - loss: 0.7369 - accuracy: 0.5250\n",
            "Epoch 16/30\n",
            "3/3 [==============================] - 0s 9ms/step - loss: 0.7281 - accuracy: 0.5250\n",
            "Epoch 17/30\n",
            "3/3 [==============================] - 0s 6ms/step - loss: 0.7241 - accuracy: 0.5250\n",
            "Epoch 18/30\n",
            "3/3 [==============================] - 0s 5ms/step - loss: 0.7130 - accuracy: 0.5250\n",
            "Epoch 19/30\n",
            "3/3 [==============================] - 0s 5ms/step - loss: 0.7049 - accuracy: 0.5250\n",
            "Epoch 20/30\n",
            "3/3 [==============================] - 0s 5ms/step - loss: 0.6979 - accuracy: 0.5250\n",
            "Epoch 21/30\n",
            "3/3 [==============================] - 0s 5ms/step - loss: 0.6894 - accuracy: 0.5250\n",
            "Epoch 22/30\n",
            "3/3 [==============================] - 0s 4ms/step - loss: 0.6852 - accuracy: 0.5250\n",
            "Epoch 23/30\n",
            "3/3 [==============================] - 0s 5ms/step - loss: 0.6755 - accuracy: 0.5250\n",
            "Epoch 24/30\n",
            "3/3 [==============================] - 0s 5ms/step - loss: 0.6706 - accuracy: 0.5250\n",
            "Epoch 25/30\n",
            "3/3 [==============================] - 0s 5ms/step - loss: 0.6619 - accuracy: 0.5250\n",
            "Epoch 26/30\n",
            "3/3 [==============================] - 0s 5ms/step - loss: 0.6544 - accuracy: 0.5250\n",
            "Epoch 27/30\n",
            "3/3 [==============================] - 0s 11ms/step - loss: 0.6483 - accuracy: 0.5250\n",
            "Epoch 28/30\n",
            "3/3 [==============================] - 0s 6ms/step - loss: 0.6419 - accuracy: 0.5250\n",
            "Epoch 29/30\n",
            "3/3 [==============================] - 0s 18ms/step - loss: 0.6353 - accuracy: 0.5250\n",
            "Epoch 30/30\n",
            "3/3 [==============================] - 0s 7ms/step - loss: 0.6285 - accuracy: 0.5250\n"
          ]
        },
        {
          "output_type": "execute_result",
          "data": {
            "text/plain": [
              "<keras.callbacks.History at 0x7fddda96f730>"
            ]
          },
          "metadata": {},
          "execution_count": 17
        }
      ]
    },
    {
      "cell_type": "code",
      "source": [
        "model.evaluate(X_test, y_test, verbose=2)"
      ],
      "metadata": {
        "colab": {
          "base_uri": "https://localhost:8080/"
        },
        "id": "bogxwjO4ZQRy",
        "outputId": "c45230b3-980d-446c-9f78-70b89d9e95f9"
      },
      "execution_count": 19,
      "outputs": [
        {
          "output_type": "stream",
          "name": "stdout",
          "text": [
            "1/1 - 0s - loss: 0.6629 - accuracy: 0.4000 - 103ms/epoch - 103ms/step\n"
          ]
        },
        {
          "output_type": "execute_result",
          "data": {
            "text/plain": [
              "[0.6628996133804321, 0.4000000059604645]"
            ]
          },
          "metadata": {},
          "execution_count": 19
        }
      ]
    },
    {
      "cell_type": "code",
      "source": [
        "# 입력층의 노드 수는? 입력 데이터의 특성수, 2개\n",
        "# Dense 층의 숫자는 왜 1인가? 출력층이 이진 분류이기 때문, 노드 수는 1로 설정하고, 출력되는 값은 0과 1사이의 확률값\n",
        "# Dense 층의 activation 은 왜 sigmoid를 주었는가? 출력층이 이진 분류(바이너리 이진분류)라면, 활성화 함수는 sigmoid이다."
      ],
      "metadata": {
        "id": "knNo5q6rZshI"
      },
      "execution_count": 22,
      "outputs": []
    },
    {
      "cell_type": "code",
      "source": [
        "mnist = tf.keras.datasets.mnist\n",
        "\n",
        "(x_train, y_train), (x_test, y_test) = mnist.load_data()"
      ],
      "metadata": {
        "id": "sV-44jqQaNaW"
      },
      "execution_count": 54,
      "outputs": []
    },
    {
      "cell_type": "code",
      "source": [
        "# 이미지 데이터에서는 정규화하는 과정이 중요하다. 꼭!! 빼먹지 말아야 한다!\n",
        "x_train, x_test = x_train / 255.0, x_test / 255.0"
      ],
      "metadata": {
        "id": "06IlrJw3aXZm"
      },
      "execution_count": 55,
      "outputs": []
    },
    {
      "cell_type": "code",
      "source": [
        "x_train.shape"
      ],
      "metadata": {
        "colab": {
          "base_uri": "https://localhost:8080/"
        },
        "id": "OdrnsQFobao8",
        "outputId": "1bc951e4-2c24-4c62-9d2a-be09ba5798ff"
      },
      "execution_count": 56,
      "outputs": [
        {
          "output_type": "execute_result",
          "data": {
            "text/plain": [
              "(60000, 28, 28)"
            ]
          },
          "metadata": {},
          "execution_count": 56
        }
      ]
    },
    {
      "cell_type": "code",
      "source": [
        "pd.unique(y_train)"
      ],
      "metadata": {
        "colab": {
          "base_uri": "https://localhost:8080/"
        },
        "id": "Sddcx5HEax9g",
        "outputId": "70179647-4733-4087-f36b-b0e7810973df"
      },
      "execution_count": 57,
      "outputs": [
        {
          "output_type": "execute_result",
          "data": {
            "text/plain": [
              "array([5, 0, 4, 1, 9, 2, 3, 6, 7, 8], dtype=uint8)"
            ]
          },
          "metadata": {},
          "execution_count": 57
        }
      ]
    },
    {
      "cell_type": "code",
      "source": [
        "# # 히든 층 1개와 출력층 1개로 모델을 구성한다\n",
        "# model = tf.keras.models.Sequential([\n",
        "#     tf.keras.layers.Flatten(input_shape=(28, 28)),\n",
        "#     tf.keras.layers.Dense(100, activation='relu'),\n",
        "#     tf.keras.layers.Dense(10, activation='softmax')\n",
        "# ])"
      ],
      "metadata": {
        "id": "ByvgJibua17s"
      },
      "execution_count": 37,
      "outputs": []
    },
    {
      "cell_type": "code",
      "source": [
        "model = tf.keras.models.Sequential()\n",
        "model.add(tf.keras.layers.Flatten(input_shape=(28, 28)))\n",
        "model.add(tf.keras.layers.Dense(100, activation='relu'))\n",
        "model.add(tf.keras.layers.Dense(10, activation='softmax'))"
      ],
      "metadata": {
        "id": "OhS0lAaJbJxh"
      },
      "execution_count": 60,
      "outputs": []
    },
    {
      "cell_type": "code",
      "source": [
        "# # Functional API\n",
        "# inputs = tf.keras.layers.Input(shape=(28, 28))\n",
        "# flatten = tf.keras.layers.Flatten()(inputs)\n",
        "# hidden1 = tf.keras.layers.Dense(100, activation='relu')(flatten)\n",
        "# output = tf.keras.layers.Dense(10, activation='softmax')(hidden1)\n",
        "\n",
        "# model = tf.keras.models.Model(inputs=inputs, outputs=output)\n",
        "# ## 2차원 행렬 데이터를 1차원 행렬로 만들어주기 위해서 Flatten 함수 사용"
      ],
      "metadata": {
        "id": "rGE0yRaSbUR3"
      },
      "execution_count": 43,
      "outputs": []
    },
    {
      "cell_type": "code",
      "source": [
        "model.compile(optimizer='adam', \n",
        "              loss='sparse_categorical_crossentropy', \n",
        "              metrics=['accuracy'])"
      ],
      "metadata": {
        "id": "0J8Pqd70cAww"
      },
      "execution_count": 61,
      "outputs": []
    },
    {
      "cell_type": "code",
      "source": [
        "model.fit(x_train, y_train, epochs=5)"
      ],
      "metadata": {
        "colab": {
          "base_uri": "https://localhost:8080/"
        },
        "id": "DiGH1fQgcKkq",
        "outputId": "88728ff8-3821-42ab-9b6e-7ee75240129d"
      },
      "execution_count": 62,
      "outputs": [
        {
          "output_type": "stream",
          "name": "stdout",
          "text": [
            "Epoch 1/5\n",
            "1875/1875 [==============================] - 7s 4ms/step - loss: 0.2740 - accuracy: 0.9220\n",
            "Epoch 2/5\n",
            "1875/1875 [==============================] - 5s 3ms/step - loss: 0.1207 - accuracy: 0.9651\n",
            "Epoch 3/5\n",
            "1875/1875 [==============================] - 4s 2ms/step - loss: 0.0840 - accuracy: 0.9748\n",
            "Epoch 4/5\n",
            "1875/1875 [==============================] - 5s 3ms/step - loss: 0.0638 - accuracy: 0.9807\n",
            "Epoch 5/5\n",
            "1875/1875 [==============================] - 4s 2ms/step - loss: 0.0505 - accuracy: 0.9846\n"
          ]
        },
        {
          "output_type": "execute_result",
          "data": {
            "text/plain": [
              "<keras.callbacks.History at 0x7fddcffef3a0>"
            ]
          },
          "metadata": {},
          "execution_count": 62
        }
      ]
    },
    {
      "cell_type": "code",
      "source": [
        "x_train.shape, y_train.shape"
      ],
      "metadata": {
        "colab": {
          "base_uri": "https://localhost:8080/"
        },
        "id": "2cKOPsWSczRk",
        "outputId": "e9d7b36f-cff0-4072-8eae-9f7ec933af2d"
      },
      "execution_count": 51,
      "outputs": [
        {
          "output_type": "execute_result",
          "data": {
            "text/plain": [
              "((60000, 28, 28), (60000,))"
            ]
          },
          "metadata": {},
          "execution_count": 51
        }
      ]
    },
    {
      "cell_type": "code",
      "source": [
        "x_test.shape, y_test.shape"
      ],
      "metadata": {
        "colab": {
          "base_uri": "https://localhost:8080/"
        },
        "id": "-wM-Y0THcvMo",
        "outputId": "e02e42fe-98d3-471a-b2bc-e727d14cb9d7"
      },
      "execution_count": 58,
      "outputs": [
        {
          "output_type": "execute_result",
          "data": {
            "text/plain": [
              "((10000, 28, 28), (10000,))"
            ]
          },
          "metadata": {},
          "execution_count": 58
        }
      ]
    },
    {
      "cell_type": "code",
      "source": [
        "model.evaluate(x_test, y_test, verbose=2)"
      ],
      "metadata": {
        "colab": {
          "base_uri": "https://localhost:8080/"
        },
        "id": "UXc1mGIYcUFj",
        "outputId": "02554f90-5682-402c-d6a1-d626d806b97a"
      },
      "execution_count": 64,
      "outputs": [
        {
          "output_type": "stream",
          "name": "stdout",
          "text": [
            "313/313 - 0s - loss: 0.0899 - accuracy: 0.9719 - 337ms/epoch - 1ms/step\n"
          ]
        },
        {
          "output_type": "execute_result",
          "data": {
            "text/plain": [
              "[0.08988988399505615, 0.9718999862670898]"
            ]
          },
          "metadata": {},
          "execution_count": 64
        }
      ]
    },
    {
      "cell_type": "code",
      "source": [
        "# 입력층의 노드 수? 28 * 28 = 784개\n",
        "# flatten ? 이미지데이터를 펼쳐주는 역할\n",
        "# Dense 10인 이유? 출력할 클래스가 0~9 10개의 클래스로 분류할 것이기 때문\n",
        "# Softmax 를 사용한 이유? 다중분류에서 사용하는 활성화 함수는 softmax"
      ],
      "metadata": {
        "id": "M4v3ebRUe--y"
      },
      "execution_count": 65,
      "outputs": []
    }
  ]
}